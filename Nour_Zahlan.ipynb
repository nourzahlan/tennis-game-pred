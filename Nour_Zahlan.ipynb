{
 "cells": [
  {
   "cell_type": "code",
   "execution_count": 1,
   "metadata": {},
   "outputs": [],
   "source": [
    "import pandas as pd\n",
    "import matplotlib.pyplot as plt\n",
    "import seaborn as sns\n",
    "import numpy as np\n",
    "from sklearn.linear_model import LinearRegression, LogisticRegression\n",
    "from sklearn.metrics import mean_squared_error, accuracy_score\n",
    "from sklearn.model_selection import GridSearchCV, train_test_split, cross_val_score\n",
    "from sklearn.ensemble import RandomForestClassifier, ExtraTreesClassifier, AdaBoostClassifier\n",
    "from sklearn.neural_network import MLPClassifier\n",
    "from sklearn.neighbors import KNeighborsClassifier\n",
    "from sklearn.svm import SVC\n",
    "from sklearn.gaussian_process import GaussianProcessClassifier\n",
    "from sklearn.gaussian_process.kernels import RBF\n",
    "from sklearn.tree import DecisionTreeClassifier\n",
    "from sklearn.naive_bayes import GaussianNB\n",
    "from sklearn.preprocessing import StandardScaler\n",
    "from sklearn.feature_selection import SelectFromModel\n",
    "from urllib.request import urlopen  \n",
    "import os.path as osp\n",
    "import os\n",
    "import logging\n",
    "import zipfile\n",
    "from glob import glob\n",
    "logging.getLogger().setLevel('INFO')"
   ]
  },
  {
   "cell_type": "markdown",
   "metadata": {},
   "source": [
    "## Helpers"
   ]
  },
  {
   "cell_type": "code",
   "execution_count": 2,
   "metadata": {},
   "outputs": [],
   "source": [
    "def download_file(url_str, path):\n",
    "    url = urlopen(url_str)\n",
    "    output = open(path, 'wb')       \n",
    "    output.write(url.read())\n",
    "    output.close()  \n",
    "    \n",
    "def extract_file(archive_path, target_dir):\n",
    "    zip_file = zipfile.ZipFile(archive_path, 'r')\n",
    "    zip_file.extractall(target_dir)\n",
    "    zip_file.close()"
   ]
  },
  {
   "cell_type": "markdown",
   "metadata": {},
   "source": [
    "## Download the dataset"
   ]
  },
  {
   "cell_type": "code",
   "execution_count": 3,
   "metadata": {},
   "outputs": [
    {
     "name": "stderr",
     "output_type": "stream",
     "text": [
      "INFO:root:downloading & extracting file http://tennis-data.co.uk/2000/2000.zip\n",
      "INFO:root:downloading & extracting file http://tennis-data.co.uk/2001/2001.zip\n",
      "INFO:root:downloading & extracting file http://tennis-data.co.uk/2002/2002.zip\n",
      "INFO:root:downloading & extracting file http://tennis-data.co.uk/2003/2003.zip\n",
      "INFO:root:downloading & extracting file http://tennis-data.co.uk/2004/2004.zip\n",
      "INFO:root:downloading & extracting file http://tennis-data.co.uk/2005/2005.zip\n",
      "INFO:root:downloading & extracting file http://tennis-data.co.uk/2006/2006.zip\n",
      "INFO:root:downloading & extracting file http://tennis-data.co.uk/2007/2007.zip\n",
      "INFO:root:downloading & extracting file http://tennis-data.co.uk/2008/2008.zip\n",
      "INFO:root:downloading & extracting file http://tennis-data.co.uk/2009/2009.zip\n",
      "INFO:root:downloading & extracting file http://tennis-data.co.uk/2010/2010.zip\n",
      "INFO:root:downloading & extracting file http://tennis-data.co.uk/2011/2011.zip\n",
      "INFO:root:downloading & extracting file http://tennis-data.co.uk/2012/2012.zip\n",
      "INFO:root:downloading & extracting file http://tennis-data.co.uk/2013/2013.zip\n",
      "INFO:root:downloading & extracting file http://tennis-data.co.uk/2014/2014.zip\n",
      "INFO:root:downloading & extracting file http://tennis-data.co.uk/2015/2015.zip\n",
      "INFO:root:downloading & extracting file http://tennis-data.co.uk/2016/2016.zip\n",
      "INFO:root:downloading & extracting file http://tennis-data.co.uk/2017/2017.zip\n",
      "INFO:root:downloading & extracting file http://tennis-data.co.uk/2018/2018.zip\n",
      "INFO:root:downloading & extracting file http://tennis-data.co.uk/2007w/2007.zip\n",
      "INFO:root:downloading & extracting file http://tennis-data.co.uk/2008w/2008.zip\n",
      "INFO:root:downloading & extracting file http://tennis-data.co.uk/2009w/2009.zip\n",
      "INFO:root:downloading & extracting file http://tennis-data.co.uk/2010w/2010.zip\n",
      "INFO:root:downloading & extracting file http://tennis-data.co.uk/2011w/2011.zip\n",
      "INFO:root:downloading & extracting file http://tennis-data.co.uk/2012w/2012.zip\n",
      "INFO:root:downloading & extracting file http://tennis-data.co.uk/2013w/2013.zip\n",
      "INFO:root:downloading & extracting file http://tennis-data.co.uk/2014w/2014.zip\n",
      "INFO:root:downloading & extracting file http://tennis-data.co.uk/2015w/2015.zip\n",
      "INFO:root:downloading & extracting file http://tennis-data.co.uk/2016w/2016.zip\n",
      "INFO:root:downloading & extracting file http://tennis-data.co.uk/2017w/2017.zip\n",
      "INFO:root:downloading & extracting file http://tennis-data.co.uk/2018w/2018.zip\n",
      "/opt/anaconda3/lib/python3.7/site-packages/ipykernel_launcher.py:22: FutureWarning: Sorting because non-concatenation axis is not aligned. A future version\n",
      "of pandas will change to not sort by default.\n",
      "\n",
      "To accept the future behavior, pass 'sort=False'.\n",
      "\n",
      "To retain the current behavior and silence the warning, pass 'sort=True'.\n",
      "\n",
      "/opt/anaconda3/lib/python3.7/site-packages/ipykernel_launcher.py:23: FutureWarning: Sorting because non-concatenation axis is not aligned. A future version\n",
      "of pandas will change to not sort by default.\n",
      "\n",
      "To accept the future behavior, pass 'sort=False'.\n",
      "\n",
      "To retain the current behavior and silence the warning, pass 'sort=True'.\n",
      "\n",
      "INFO:root:52298 matches ATP in df_atp\n",
      "INFO:root:29581 matches WTA in df_wta\n"
     ]
    }
   ],
   "source": [
    "BASE_URL = 'http://tennis-data.co.uk'\n",
    "DATA_DIR = \"tennis_data\"\n",
    "ATP_DIR = './{}/ATP'.format(DATA_DIR)\n",
    "WTA_DIR = './{}/WTA'.format(DATA_DIR)\n",
    "\n",
    "ATP_URLS = [BASE_URL + \"/%i/%i.zip\" % (i,i) for i in range(2000,2019)]\n",
    "WTA_URLS = [BASE_URL + \"/%iw/%i.zip\" % (i,i) for i in range(2007,2019)]\n",
    "\n",
    "os.makedirs(osp.join(ATP_DIR, 'archives'), exist_ok=True)\n",
    "os.makedirs(osp.join(WTA_DIR, 'archives'), exist_ok=True)\n",
    "\n",
    "for files, directory in ((ATP_URLS, ATP_DIR), (WTA_URLS, WTA_DIR)):\n",
    "    for dl_path in files:\n",
    "        logging.info(\"downloading & extracting file %s\", dl_path)\n",
    "        archive_path = osp.join(directory, 'archives', osp.basename(dl_path))\n",
    "        download_file(dl_path, archive_path)\n",
    "        extract_file(archive_path, directory)\n",
    "    \n",
    "ATP_FILES = sorted(glob(\"%s/*.xls*\" % ATP_DIR))\n",
    "WTA_FILES = sorted(glob(\"%s/*.xls*\" % WTA_DIR))\n",
    "\n",
    "df_atp = pd.concat([pd.read_excel(f) for f in ATP_FILES], ignore_index=True)\n",
    "df_wta = pd.concat([pd.read_excel(f) for f in WTA_FILES], ignore_index=True)\n",
    "\n",
    "logging.info(\"%i matches ATP in df_atp\", df_atp.shape[0])\n",
    "logging.info(\"%i matches WTA in df_wta\", df_wta.shape[0])"
   ]
  },
  {
   "cell_type": "markdown",
   "metadata": {},
   "source": [
    "## Your work"
   ]
  },
  {
   "cell_type": "markdown",
   "metadata": {},
   "source": [
    "## Q&A"
   ]
  },
  {
   "cell_type": "markdown",
   "metadata": {},
   "source": [
    "### Basic Checks"
   ]
  },
  {
   "cell_type": "code",
   "execution_count": 4,
   "metadata": {},
   "outputs": [
    {
     "name": "stdout",
     "output_type": "stream",
     "text": [
      "The ATP dataframe has 52298 rows and 54 columns\n",
      "The WTA dataframe has 29581 rows and 42 columns\n"
     ]
    }
   ],
   "source": [
    "# Check number of rows and columns \n",
    "print(\"The ATP dataframe has\",df_atp.shape[0],\"rows and\",df_atp.shape[1],\"columns\")\n",
    "print(\"The WTA dataframe has\",df_wta.shape[0],\"rows and\",df_wta.shape[1],\"columns\")"
   ]
  },
  {
   "cell_type": "code",
   "execution_count": 5,
   "metadata": {
    "scrolled": false
   },
   "outputs": [
    {
     "data": {
      "text/html": [
       "<div>\n",
       "<style scoped>\n",
       "    .dataframe tbody tr th:only-of-type {\n",
       "        vertical-align: middle;\n",
       "    }\n",
       "\n",
       "    .dataframe tbody tr th {\n",
       "        vertical-align: top;\n",
       "    }\n",
       "\n",
       "    .dataframe thead th {\n",
       "        text-align: right;\n",
       "    }\n",
       "</style>\n",
       "<table border=\"1\" class=\"dataframe\">\n",
       "  <thead>\n",
       "    <tr style=\"text-align: right;\">\n",
       "      <th></th>\n",
       "      <th>ATP</th>\n",
       "      <th>AvgL</th>\n",
       "      <th>AvgW</th>\n",
       "      <th>B&amp;WL</th>\n",
       "      <th>B&amp;WW</th>\n",
       "      <th>B365L</th>\n",
       "      <th>B365W</th>\n",
       "      <th>Best of</th>\n",
       "      <th>CBL</th>\n",
       "      <th>CBW</th>\n",
       "      <th>...</th>\n",
       "      <th>UBW</th>\n",
       "      <th>W1</th>\n",
       "      <th>W2</th>\n",
       "      <th>W3</th>\n",
       "      <th>W4</th>\n",
       "      <th>W5</th>\n",
       "      <th>WPts</th>\n",
       "      <th>WRank</th>\n",
       "      <th>Winner</th>\n",
       "      <th>Wsets</th>\n",
       "    </tr>\n",
       "  </thead>\n",
       "  <tbody>\n",
       "    <tr>\n",
       "      <td>0</td>\n",
       "      <td>1</td>\n",
       "      <td>NaN</td>\n",
       "      <td>NaN</td>\n",
       "      <td>NaN</td>\n",
       "      <td>NaN</td>\n",
       "      <td>NaN</td>\n",
       "      <td>NaN</td>\n",
       "      <td>3</td>\n",
       "      <td>NaN</td>\n",
       "      <td>NaN</td>\n",
       "      <td>...</td>\n",
       "      <td>NaN</td>\n",
       "      <td>6.0</td>\n",
       "      <td>6</td>\n",
       "      <td>NaN</td>\n",
       "      <td>NaN</td>\n",
       "      <td>NaN</td>\n",
       "      <td>NaN</td>\n",
       "      <td>63</td>\n",
       "      <td>Dosedel S.</td>\n",
       "      <td>2.0</td>\n",
       "    </tr>\n",
       "    <tr>\n",
       "      <td>1</td>\n",
       "      <td>1</td>\n",
       "      <td>NaN</td>\n",
       "      <td>NaN</td>\n",
       "      <td>NaN</td>\n",
       "      <td>NaN</td>\n",
       "      <td>NaN</td>\n",
       "      <td>NaN</td>\n",
       "      <td>3</td>\n",
       "      <td>NaN</td>\n",
       "      <td>NaN</td>\n",
       "      <td>...</td>\n",
       "      <td>NaN</td>\n",
       "      <td>6.0</td>\n",
       "      <td>6</td>\n",
       "      <td>NaN</td>\n",
       "      <td>NaN</td>\n",
       "      <td>NaN</td>\n",
       "      <td>NaN</td>\n",
       "      <td>5</td>\n",
       "      <td>Enqvist T.</td>\n",
       "      <td>2.0</td>\n",
       "    </tr>\n",
       "    <tr>\n",
       "      <td>2</td>\n",
       "      <td>1</td>\n",
       "      <td>NaN</td>\n",
       "      <td>NaN</td>\n",
       "      <td>NaN</td>\n",
       "      <td>NaN</td>\n",
       "      <td>NaN</td>\n",
       "      <td>NaN</td>\n",
       "      <td>3</td>\n",
       "      <td>NaN</td>\n",
       "      <td>NaN</td>\n",
       "      <td>...</td>\n",
       "      <td>NaN</td>\n",
       "      <td>6.0</td>\n",
       "      <td>7</td>\n",
       "      <td>6</td>\n",
       "      <td>NaN</td>\n",
       "      <td>NaN</td>\n",
       "      <td>NaN</td>\n",
       "      <td>40</td>\n",
       "      <td>Escude N.</td>\n",
       "      <td>2.0</td>\n",
       "    </tr>\n",
       "    <tr>\n",
       "      <td>3</td>\n",
       "      <td>1</td>\n",
       "      <td>NaN</td>\n",
       "      <td>NaN</td>\n",
       "      <td>NaN</td>\n",
       "      <td>NaN</td>\n",
       "      <td>NaN</td>\n",
       "      <td>NaN</td>\n",
       "      <td>3</td>\n",
       "      <td>NaN</td>\n",
       "      <td>NaN</td>\n",
       "      <td>...</td>\n",
       "      <td>NaN</td>\n",
       "      <td>6.0</td>\n",
       "      <td>6</td>\n",
       "      <td>NaN</td>\n",
       "      <td>NaN</td>\n",
       "      <td>NaN</td>\n",
       "      <td>NaN</td>\n",
       "      <td>65</td>\n",
       "      <td>Federer R.</td>\n",
       "      <td>2.0</td>\n",
       "    </tr>\n",
       "    <tr>\n",
       "      <td>4</td>\n",
       "      <td>1</td>\n",
       "      <td>NaN</td>\n",
       "      <td>NaN</td>\n",
       "      <td>NaN</td>\n",
       "      <td>NaN</td>\n",
       "      <td>NaN</td>\n",
       "      <td>NaN</td>\n",
       "      <td>3</td>\n",
       "      <td>NaN</td>\n",
       "      <td>NaN</td>\n",
       "      <td>...</td>\n",
       "      <td>NaN</td>\n",
       "      <td>7.0</td>\n",
       "      <td>5</td>\n",
       "      <td>6</td>\n",
       "      <td>NaN</td>\n",
       "      <td>NaN</td>\n",
       "      <td>NaN</td>\n",
       "      <td>81</td>\n",
       "      <td>Fromberg R.</td>\n",
       "      <td>2.0</td>\n",
       "    </tr>\n",
       "  </tbody>\n",
       "</table>\n",
       "<p>5 rows × 54 columns</p>\n",
       "</div>"
      ],
      "text/plain": [
       "   ATP  AvgL  AvgW  B&WL  B&WW  B365L  B365W  Best of  CBL  CBW  ... UBW   W1  \\\n",
       "0    1   NaN   NaN   NaN   NaN    NaN    NaN        3  NaN  NaN  ... NaN  6.0   \n",
       "1    1   NaN   NaN   NaN   NaN    NaN    NaN        3  NaN  NaN  ... NaN  6.0   \n",
       "2    1   NaN   NaN   NaN   NaN    NaN    NaN        3  NaN  NaN  ... NaN  6.0   \n",
       "3    1   NaN   NaN   NaN   NaN    NaN    NaN        3  NaN  NaN  ... NaN  6.0   \n",
       "4    1   NaN   NaN   NaN   NaN    NaN    NaN        3  NaN  NaN  ... NaN  7.0   \n",
       "\n",
       "  W2   W3  W4  W5  WPts  WRank       Winner  Wsets  \n",
       "0  6  NaN NaN NaN   NaN     63   Dosedel S.    2.0  \n",
       "1  6  NaN NaN NaN   NaN      5   Enqvist T.    2.0  \n",
       "2  7    6 NaN NaN   NaN     40    Escude N.    2.0  \n",
       "3  6  NaN NaN NaN   NaN     65   Federer R.    2.0  \n",
       "4  5    6 NaN NaN   NaN     81  Fromberg R.    2.0  \n",
       "\n",
       "[5 rows x 54 columns]"
      ]
     },
     "execution_count": 5,
     "metadata": {},
     "output_type": "execute_result"
    }
   ],
   "source": [
    "# Examine the first 5 rows of ATP datframe\n",
    "df_atp.head()"
   ]
  },
  {
   "cell_type": "code",
   "execution_count": 6,
   "metadata": {
    "scrolled": true
   },
   "outputs": [
    {
     "data": {
      "text/html": [
       "<div>\n",
       "<style scoped>\n",
       "    .dataframe tbody tr th:only-of-type {\n",
       "        vertical-align: middle;\n",
       "    }\n",
       "\n",
       "    .dataframe tbody tr th {\n",
       "        vertical-align: top;\n",
       "    }\n",
       "\n",
       "    .dataframe thead th {\n",
       "        text-align: right;\n",
       "    }\n",
       "</style>\n",
       "<table border=\"1\" class=\"dataframe\">\n",
       "  <thead>\n",
       "    <tr style=\"text-align: right;\">\n",
       "      <th></th>\n",
       "      <th>AvgL</th>\n",
       "      <th>AvgW</th>\n",
       "      <th>B365L</th>\n",
       "      <th>B365W</th>\n",
       "      <th>Best of</th>\n",
       "      <th>CBL</th>\n",
       "      <th>CBW</th>\n",
       "      <th>Comment</th>\n",
       "      <th>Court</th>\n",
       "      <th>Date</th>\n",
       "      <th>...</th>\n",
       "      <th>UBL</th>\n",
       "      <th>UBW</th>\n",
       "      <th>W1</th>\n",
       "      <th>W2</th>\n",
       "      <th>W3</th>\n",
       "      <th>WPts</th>\n",
       "      <th>WRank</th>\n",
       "      <th>WTA</th>\n",
       "      <th>Winner</th>\n",
       "      <th>Wsets</th>\n",
       "    </tr>\n",
       "  </thead>\n",
       "  <tbody>\n",
       "    <tr>\n",
       "      <td>0</td>\n",
       "      <td>NaN</td>\n",
       "      <td>NaN</td>\n",
       "      <td>3</td>\n",
       "      <td>1.33</td>\n",
       "      <td>3</td>\n",
       "      <td>2.90</td>\n",
       "      <td>1.38</td>\n",
       "      <td>Completed</td>\n",
       "      <td>Outdoor</td>\n",
       "      <td>2007-01-01</td>\n",
       "      <td>...</td>\n",
       "      <td>3.05</td>\n",
       "      <td>1.35</td>\n",
       "      <td>6.0</td>\n",
       "      <td>6.0</td>\n",
       "      <td>NaN</td>\n",
       "      <td>332.25</td>\n",
       "      <td>81.0</td>\n",
       "      <td>1</td>\n",
       "      <td>Sun T.T.</td>\n",
       "      <td>2.0</td>\n",
       "    </tr>\n",
       "    <tr>\n",
       "      <td>1</td>\n",
       "      <td>NaN</td>\n",
       "      <td>NaN</td>\n",
       "      <td>1.22</td>\n",
       "      <td>3.75</td>\n",
       "      <td>3</td>\n",
       "      <td>1.18</td>\n",
       "      <td>4.50</td>\n",
       "      <td>Completed</td>\n",
       "      <td>Outdoor</td>\n",
       "      <td>2007-01-01</td>\n",
       "      <td>...</td>\n",
       "      <td>1.25</td>\n",
       "      <td>3.75</td>\n",
       "      <td>6.0</td>\n",
       "      <td>6.0</td>\n",
       "      <td>6.0</td>\n",
       "      <td>401.75</td>\n",
       "      <td>59.0</td>\n",
       "      <td>1</td>\n",
       "      <td>Dulko G.</td>\n",
       "      <td>2.0</td>\n",
       "    </tr>\n",
       "    <tr>\n",
       "      <td>2</td>\n",
       "      <td>NaN</td>\n",
       "      <td>NaN</td>\n",
       "      <td>2</td>\n",
       "      <td>1.72</td>\n",
       "      <td>3</td>\n",
       "      <td>1.85</td>\n",
       "      <td>1.90</td>\n",
       "      <td>Completed</td>\n",
       "      <td>Outdoor</td>\n",
       "      <td>2007-01-01</td>\n",
       "      <td>...</td>\n",
       "      <td>NaN</td>\n",
       "      <td>NaN</td>\n",
       "      <td>6.0</td>\n",
       "      <td>6.0</td>\n",
       "      <td>NaN</td>\n",
       "      <td>418.50</td>\n",
       "      <td>56.0</td>\n",
       "      <td>1</td>\n",
       "      <td>Loit E.</td>\n",
       "      <td>2.0</td>\n",
       "    </tr>\n",
       "    <tr>\n",
       "      <td>3</td>\n",
       "      <td>NaN</td>\n",
       "      <td>NaN</td>\n",
       "      <td>1.83</td>\n",
       "      <td>1.83</td>\n",
       "      <td>3</td>\n",
       "      <td>1.66</td>\n",
       "      <td>2.15</td>\n",
       "      <td>Completed</td>\n",
       "      <td>Outdoor</td>\n",
       "      <td>2007-01-01</td>\n",
       "      <td>...</td>\n",
       "      <td>NaN</td>\n",
       "      <td>NaN</td>\n",
       "      <td>7.0</td>\n",
       "      <td>6.0</td>\n",
       "      <td>NaN</td>\n",
       "      <td>365.50</td>\n",
       "      <td>70.0</td>\n",
       "      <td>1</td>\n",
       "      <td>Craybas J.</td>\n",
       "      <td>2.0</td>\n",
       "    </tr>\n",
       "    <tr>\n",
       "      <td>4</td>\n",
       "      <td>NaN</td>\n",
       "      <td>NaN</td>\n",
       "      <td>4.5</td>\n",
       "      <td>1.16</td>\n",
       "      <td>3</td>\n",
       "      <td>4.85</td>\n",
       "      <td>1.16</td>\n",
       "      <td>Completed</td>\n",
       "      <td>Outdoor</td>\n",
       "      <td>2007-01-01</td>\n",
       "      <td>...</td>\n",
       "      <td>4.30</td>\n",
       "      <td>1.20</td>\n",
       "      <td>7.0</td>\n",
       "      <td>6.0</td>\n",
       "      <td>NaN</td>\n",
       "      <td>951.00</td>\n",
       "      <td>18.0</td>\n",
       "      <td>1</td>\n",
       "      <td>Bartoli M.</td>\n",
       "      <td>2.0</td>\n",
       "    </tr>\n",
       "  </tbody>\n",
       "</table>\n",
       "<p>5 rows × 42 columns</p>\n",
       "</div>"
      ],
      "text/plain": [
       "   AvgL  AvgW B365L  B365W  Best of   CBL   CBW    Comment    Court  \\\n",
       "0   NaN   NaN     3   1.33        3  2.90  1.38  Completed  Outdoor   \n",
       "1   NaN   NaN  1.22   3.75        3  1.18  4.50  Completed  Outdoor   \n",
       "2   NaN   NaN     2   1.72        3  1.85  1.90  Completed  Outdoor   \n",
       "3   NaN   NaN  1.83   1.83        3  1.66  2.15  Completed  Outdoor   \n",
       "4   NaN   NaN   4.5   1.16        3  4.85  1.16  Completed  Outdoor   \n",
       "\n",
       "        Date  ...   UBL   UBW   W1   W2   W3    WPts WRank  WTA      Winner  \\\n",
       "0 2007-01-01  ...  3.05  1.35  6.0  6.0  NaN  332.25  81.0    1    Sun T.T.   \n",
       "1 2007-01-01  ...  1.25  3.75  6.0  6.0  6.0  401.75  59.0    1    Dulko G.   \n",
       "2 2007-01-01  ...   NaN   NaN  6.0  6.0  NaN  418.50  56.0    1     Loit E.   \n",
       "3 2007-01-01  ...   NaN   NaN  7.0  6.0  NaN  365.50  70.0    1  Craybas J.   \n",
       "4 2007-01-01  ...  4.30  1.20  7.0  6.0  NaN  951.00  18.0    1  Bartoli M.   \n",
       "\n",
       "  Wsets  \n",
       "0   2.0  \n",
       "1   2.0  \n",
       "2   2.0  \n",
       "3   2.0  \n",
       "4   2.0  \n",
       "\n",
       "[5 rows x 42 columns]"
      ]
     },
     "execution_count": 6,
     "metadata": {},
     "output_type": "execute_result"
    }
   ],
   "source": [
    "# Examine the first 5 rows of WTA datframe\n",
    "df_wta.head()"
   ]
  },
  {
   "cell_type": "code",
   "execution_count": 7,
   "metadata": {},
   "outputs": [
    {
     "data": {
      "text/plain": [
       "ATP               0\n",
       "AvgL          29553\n",
       "AvgW          29553\n",
       "B&WL          51201\n",
       "B&WW          51201\n",
       "B365L          8632\n",
       "B365W          8655\n",
       "Best of           0\n",
       "CBL           34792\n",
       "CBW           34792\n",
       "Comment           0\n",
       "Court             0\n",
       "Date              0\n",
       "EXL           12882\n",
       "EXW           12887\n",
       "GBL           47243\n",
       "GBW           47243\n",
       "IWL           38940\n",
       "IWW           38940\n",
       "L1              261\n",
       "L2              771\n",
       "L3            28130\n",
       "L4            47567\n",
       "L5            50507\n",
       "LBL           24156\n",
       "LBW           24167\n",
       "LPts          16263\n",
       "LRank            78\n",
       "Location          0\n",
       "Loser             0\n",
       "Lsets           225\n",
       "MaxL          29553\n",
       "MaxW          29553\n",
       "PSL           14959\n",
       "PSW           14959\n",
       "Round             0\n",
       "SBL           46874\n",
       "SBW           46874\n",
       "SJL           36719\n",
       "SJW           36726\n",
       "Series            0\n",
       "Surface           0\n",
       "Tournament        0\n",
       "UBL           41627\n",
       "UBW           41627\n",
       "W1              263\n",
       "W2              772\n",
       "W3            28129\n",
       "W4            47567\n",
       "W5            50507\n",
       "WPts          16204\n",
       "WRank            15\n",
       "Winner            0\n",
       "Wsets           224\n",
       "dtype: int64"
      ]
     },
     "execution_count": 7,
     "metadata": {},
     "output_type": "execute_result"
    }
   ],
   "source": [
    "# Examine missing values in each column\n",
    "df_atp.isna().sum()"
   ]
  },
  {
   "cell_type": "code",
   "execution_count": 8,
   "metadata": {
    "scrolled": false
   },
   "outputs": [
    {
     "data": {
      "text/html": [
       "<div>\n",
       "<style scoped>\n",
       "    .dataframe tbody tr th:only-of-type {\n",
       "        vertical-align: middle;\n",
       "    }\n",
       "\n",
       "    .dataframe tbody tr th {\n",
       "        vertical-align: top;\n",
       "    }\n",
       "\n",
       "    .dataframe thead th {\n",
       "        text-align: right;\n",
       "    }\n",
       "</style>\n",
       "<table border=\"1\" class=\"dataframe\">\n",
       "  <thead>\n",
       "    <tr style=\"text-align: right;\">\n",
       "      <th></th>\n",
       "      <th>dtype</th>\n",
       "    </tr>\n",
       "  </thead>\n",
       "  <tbody>\n",
       "    <tr>\n",
       "      <td>Comment</td>\n",
       "      <td>object</td>\n",
       "    </tr>\n",
       "    <tr>\n",
       "      <td>Court</td>\n",
       "      <td>object</td>\n",
       "    </tr>\n",
       "    <tr>\n",
       "      <td>EXW</td>\n",
       "      <td>object</td>\n",
       "    </tr>\n",
       "    <tr>\n",
       "      <td>L2</td>\n",
       "      <td>object</td>\n",
       "    </tr>\n",
       "    <tr>\n",
       "      <td>L3</td>\n",
       "      <td>object</td>\n",
       "    </tr>\n",
       "    <tr>\n",
       "      <td>LRank</td>\n",
       "      <td>object</td>\n",
       "    </tr>\n",
       "    <tr>\n",
       "      <td>Location</td>\n",
       "      <td>object</td>\n",
       "    </tr>\n",
       "    <tr>\n",
       "      <td>Loser</td>\n",
       "      <td>object</td>\n",
       "    </tr>\n",
       "    <tr>\n",
       "      <td>Lsets</td>\n",
       "      <td>object</td>\n",
       "    </tr>\n",
       "    <tr>\n",
       "      <td>Round</td>\n",
       "      <td>object</td>\n",
       "    </tr>\n",
       "    <tr>\n",
       "      <td>Series</td>\n",
       "      <td>object</td>\n",
       "    </tr>\n",
       "    <tr>\n",
       "      <td>Surface</td>\n",
       "      <td>object</td>\n",
       "    </tr>\n",
       "    <tr>\n",
       "      <td>Tournament</td>\n",
       "      <td>object</td>\n",
       "    </tr>\n",
       "    <tr>\n",
       "      <td>W2</td>\n",
       "      <td>object</td>\n",
       "    </tr>\n",
       "    <tr>\n",
       "      <td>W3</td>\n",
       "      <td>object</td>\n",
       "    </tr>\n",
       "    <tr>\n",
       "      <td>WRank</td>\n",
       "      <td>object</td>\n",
       "    </tr>\n",
       "    <tr>\n",
       "      <td>Winner</td>\n",
       "      <td>object</td>\n",
       "    </tr>\n",
       "  </tbody>\n",
       "</table>\n",
       "</div>"
      ],
      "text/plain": [
       "             dtype\n",
       "Comment     object\n",
       "Court       object\n",
       "EXW         object\n",
       "L2          object\n",
       "L3          object\n",
       "LRank       object\n",
       "Location    object\n",
       "Loser       object\n",
       "Lsets       object\n",
       "Round       object\n",
       "Series      object\n",
       "Surface     object\n",
       "Tournament  object\n",
       "W2          object\n",
       "W3          object\n",
       "WRank       object\n",
       "Winner      object"
      ]
     },
     "execution_count": 8,
     "metadata": {},
     "output_type": "execute_result"
    }
   ],
   "source": [
    "# Explore datatypes of each feature\n",
    "types = pd.DataFrame([df_atp.dtypes]).T.rename(columns = {0:\"dtype\"})\n",
    "types[types['dtype'] == 'object']"
   ]
  },
  {
   "cell_type": "markdown",
   "metadata": {},
   "source": [
    "### 1- Who are the three ATP players with the most wins ?"
   ]
  },
  {
   "cell_type": "code",
   "execution_count": 9,
   "metadata": {
    "scrolled": false
   },
   "outputs": [
    {
     "data": {
      "text/html": [
       "<div>\n",
       "<style scoped>\n",
       "    .dataframe tbody tr th:only-of-type {\n",
       "        vertical-align: middle;\n",
       "    }\n",
       "\n",
       "    .dataframe tbody tr th {\n",
       "        vertical-align: top;\n",
       "    }\n",
       "\n",
       "    .dataframe thead th {\n",
       "        text-align: right;\n",
       "    }\n",
       "</style>\n",
       "<table border=\"1\" class=\"dataframe\">\n",
       "  <thead>\n",
       "    <tr style=\"text-align: right;\">\n",
       "      <th></th>\n",
       "      <th>ATP</th>\n",
       "      <th>AvgL</th>\n",
       "      <th>AvgW</th>\n",
       "      <th>B&amp;WL</th>\n",
       "      <th>B&amp;WW</th>\n",
       "      <th>B365L</th>\n",
       "      <th>B365W</th>\n",
       "      <th>Best of</th>\n",
       "      <th>CBL</th>\n",
       "      <th>CBW</th>\n",
       "      <th>...</th>\n",
       "      <th>UBL</th>\n",
       "      <th>UBW</th>\n",
       "      <th>W1</th>\n",
       "      <th>W2</th>\n",
       "      <th>W3</th>\n",
       "      <th>W4</th>\n",
       "      <th>W5</th>\n",
       "      <th>WPts</th>\n",
       "      <th>WRank</th>\n",
       "      <th>Wsets</th>\n",
       "    </tr>\n",
       "    <tr>\n",
       "      <th>Winner</th>\n",
       "      <th></th>\n",
       "      <th></th>\n",
       "      <th></th>\n",
       "      <th></th>\n",
       "      <th></th>\n",
       "      <th></th>\n",
       "      <th></th>\n",
       "      <th></th>\n",
       "      <th></th>\n",
       "      <th></th>\n",
       "      <th></th>\n",
       "      <th></th>\n",
       "      <th></th>\n",
       "      <th></th>\n",
       "      <th></th>\n",
       "      <th></th>\n",
       "      <th></th>\n",
       "      <th></th>\n",
       "      <th></th>\n",
       "      <th></th>\n",
       "      <th></th>\n",
       "    </tr>\n",
       "  </thead>\n",
       "  <tbody>\n",
       "    <tr>\n",
       "      <td>Federer R.</td>\n",
       "      <td>1121</td>\n",
       "      <td>478</td>\n",
       "      <td>478</td>\n",
       "      <td>30</td>\n",
       "      <td>30</td>\n",
       "      <td>1001</td>\n",
       "      <td>994</td>\n",
       "      <td>1121</td>\n",
       "      <td>445</td>\n",
       "      <td>445</td>\n",
       "      <td>...</td>\n",
       "      <td>269</td>\n",
       "      <td>269</td>\n",
       "      <td>1109</td>\n",
       "      <td>1103</td>\n",
       "      <td>537</td>\n",
       "      <td>91</td>\n",
       "      <td>29</td>\n",
       "      <td>788</td>\n",
       "      <td>1121</td>\n",
       "      <td>1112</td>\n",
       "    </tr>\n",
       "    <tr>\n",
       "      <td>Nadal R.</td>\n",
       "      <td>891</td>\n",
       "      <td>486</td>\n",
       "      <td>486</td>\n",
       "      <td>3</td>\n",
       "      <td>3</td>\n",
       "      <td>880</td>\n",
       "      <td>874</td>\n",
       "      <td>891</td>\n",
       "      <td>240</td>\n",
       "      <td>240</td>\n",
       "      <td>...</td>\n",
       "      <td>265</td>\n",
       "      <td>265</td>\n",
       "      <td>882</td>\n",
       "      <td>876</td>\n",
       "      <td>381</td>\n",
       "      <td>72</td>\n",
       "      <td>21</td>\n",
       "      <td>801</td>\n",
       "      <td>891</td>\n",
       "      <td>884</td>\n",
       "    </tr>\n",
       "    <tr>\n",
       "      <td>Djokovic N.</td>\n",
       "      <td>802</td>\n",
       "      <td>544</td>\n",
       "      <td>544</td>\n",
       "      <td>0</td>\n",
       "      <td>0</td>\n",
       "      <td>800</td>\n",
       "      <td>795</td>\n",
       "      <td>802</td>\n",
       "      <td>110</td>\n",
       "      <td>110</td>\n",
       "      <td>...</td>\n",
       "      <td>230</td>\n",
       "      <td>230</td>\n",
       "      <td>791</td>\n",
       "      <td>786</td>\n",
       "      <td>389</td>\n",
       "      <td>87</td>\n",
       "      <td>26</td>\n",
       "      <td>798</td>\n",
       "      <td>802</td>\n",
       "      <td>791</td>\n",
       "    </tr>\n",
       "  </tbody>\n",
       "</table>\n",
       "<p>3 rows × 53 columns</p>\n",
       "</div>"
      ],
      "text/plain": [
       "              ATP  AvgL  AvgW  B&WL  B&WW  B365L  B365W  Best of  CBL  CBW  \\\n",
       "Winner                                                                       \n",
       "Federer R.   1121   478   478    30    30   1001    994     1121  445  445   \n",
       "Nadal R.      891   486   486     3     3    880    874      891  240  240   \n",
       "Djokovic N.   802   544   544     0     0    800    795      802  110  110   \n",
       "\n",
       "             ...  UBL  UBW    W1    W2   W3  W4  W5  WPts  WRank  Wsets  \n",
       "Winner       ...                                                         \n",
       "Federer R.   ...  269  269  1109  1103  537  91  29   788   1121   1112  \n",
       "Nadal R.     ...  265  265   882   876  381  72  21   801    891    884  \n",
       "Djokovic N.  ...  230  230   791   786  389  87  26   798    802    791  \n",
       "\n",
       "[3 rows x 53 columns]"
      ]
     },
     "execution_count": 9,
     "metadata": {},
     "output_type": "execute_result"
    }
   ],
   "source": [
    "# To answer this question we group the dataframe by winner name and check the number of rows\n",
    "df_atp.groupby('Winner').count().sort_values(by='ATP', ascending = False).head(3)"
   ]
  },
  {
   "cell_type": "markdown",
   "metadata": {},
   "source": [
    "We can see the three ATP players with the most wins are Federer, Nadal and Djokovic."
   ]
  },
  {
   "cell_type": "markdown",
   "metadata": {},
   "source": [
    "### 2- How many sets did the player “​Federer R.” win in total ?"
   ]
  },
  {
   "cell_type": "code",
   "execution_count": 10,
   "metadata": {
    "scrolled": true
   },
   "outputs": [
    {
     "name": "stdout",
     "output_type": "stream",
     "text": [
      "`1\n"
     ]
    }
   ],
   "source": [
    "# We need to sum the number of sets won by Federer in matches he won and lost\n",
    "# The Wsets columns represents the number of sets won by the winner, \n",
    "# and Lsets represents the number of sets won by the loser\n",
    "# Looking at our basic EDA results above, the Lsets column is an object (instead of a float or int) \n",
    "# so we should examine it further, and find the values that are not integers\n",
    "for a in df_atp['Lsets']:\n",
    "    try:\n",
    "        a + 1\n",
    "    except:\n",
    "        print(a)"
   ]
  },
  {
   "cell_type": "markdown",
   "metadata": {},
   "source": [
    "It appears that we only have one row where Lsets is a string, and appears to be a typo but to be sure lets look at the match score"
   ]
  },
  {
   "cell_type": "code",
   "execution_count": 11,
   "metadata": {
    "scrolled": false
   },
   "outputs": [
    {
     "data": {
      "text/html": [
       "<div>\n",
       "<style scoped>\n",
       "    .dataframe tbody tr th:only-of-type {\n",
       "        vertical-align: middle;\n",
       "    }\n",
       "\n",
       "    .dataframe tbody tr th {\n",
       "        vertical-align: top;\n",
       "    }\n",
       "\n",
       "    .dataframe thead th {\n",
       "        text-align: right;\n",
       "    }\n",
       "</style>\n",
       "<table border=\"1\" class=\"dataframe\">\n",
       "  <thead>\n",
       "    <tr style=\"text-align: right;\">\n",
       "      <th></th>\n",
       "      <th>L1</th>\n",
       "      <th>L2</th>\n",
       "      <th>L3</th>\n",
       "      <th>L4</th>\n",
       "      <th>L5</th>\n",
       "      <th>W1</th>\n",
       "      <th>W2</th>\n",
       "      <th>W3</th>\n",
       "      <th>W4</th>\n",
       "      <th>W5</th>\n",
       "    </tr>\n",
       "  </thead>\n",
       "  <tbody>\n",
       "    <tr>\n",
       "      <td>18827</td>\n",
       "      <td>6.0</td>\n",
       "      <td>1</td>\n",
       "      <td>4</td>\n",
       "      <td>6.0</td>\n",
       "      <td>NaN</td>\n",
       "      <td>1.0</td>\n",
       "      <td>6</td>\n",
       "      <td>6</td>\n",
       "      <td>7.0</td>\n",
       "      <td>NaN</td>\n",
       "    </tr>\n",
       "  </tbody>\n",
       "</table>\n",
       "</div>"
      ],
      "text/plain": [
       "        L1 L2 L3   L4  L5   W1 W2 W3   W4  W5\n",
       "18827  6.0  1  4  6.0 NaN  1.0  6  6  7.0 NaN"
      ]
     },
     "execution_count": 11,
     "metadata": {},
     "output_type": "execute_result"
    }
   ],
   "source": [
    "df_atp[df_atp['Lsets'] == '`1'][['L1', 'L2', 'L3', 'L4', 'L5', 'W1', 'W2', 'W3', 'W4', 'W5']]"
   ]
  },
  {
   "cell_type": "markdown",
   "metadata": {},
   "source": [
    "By looking at the match score we can conclude that the value of Lsets here should be 1."
   ]
  },
  {
   "cell_type": "code",
   "execution_count": 12,
   "metadata": {
    "scrolled": true
   },
   "outputs": [],
   "source": [
    "# Change the value and the column type\n",
    "df_atp.loc[18827, 'Lsets'] = 1.0\n",
    "df_atp['Lsets'] = df_atp['Lsets'].astype('float64')"
   ]
  },
  {
   "cell_type": "code",
   "execution_count": 13,
   "metadata": {},
   "outputs": [
    {
     "name": "stdout",
     "output_type": "stream",
     "text": [
      "The number of sets won by Roger Federer in total is 2696.0\n"
     ]
    }
   ],
   "source": [
    "#Calculate number of sets won\n",
    "print('The number of sets won by Roger Federer in total is', \n",
    "      df_atp[df_atp['Winner'] == 'Federer R.']['Wsets'].sum() + df_atp[df_atp['Loser'] == 'Federer R.']['Lsets'].sum())"
   ]
  },
  {
   "cell_type": "markdown",
   "metadata": {},
   "source": [
    "### 3- How many sets did the player “​Federer R.” win during the years 2016 and 2017 ?"
   ]
  },
  {
   "cell_type": "code",
   "execution_count": 14,
   "metadata": {
    "scrolled": true
   },
   "outputs": [
    {
     "name": "stdout",
     "output_type": "stream",
     "text": [
      "The number of sets won by Roger Federer during the years 2016 and 2017 is 182.0\n"
     ]
    }
   ],
   "source": [
    "# Get dataframe with only matches set in 2016 and 2017\n",
    "df_date = df_atp[(df_atp['Date'] >= '2016-01-01') & (df_atp['Date'] < '2018-01-01')]\n",
    "\n",
    "# Calculate number of sets won as before\n",
    "print('The number of sets won by Roger Federer during the years 2016 and 2017 is', \n",
    "      df_date[df_date['Winner'] == 'Federer R.']['Wsets'].sum() + df_date[df_date['Loser'] == 'Federer R.']['Lsets'].sum())"
   ]
  },
  {
   "cell_type": "markdown",
   "metadata": {},
   "source": [
    "### 4- For each match, what is the percentage of victories of the winner in the past ?"
   ]
  },
  {
   "cell_type": "code",
   "execution_count": 15,
   "metadata": {
    "scrolled": false
   },
   "outputs": [
    {
     "data": {
      "text/html": [
       "<div>\n",
       "<style scoped>\n",
       "    .dataframe tbody tr th:only-of-type {\n",
       "        vertical-align: middle;\n",
       "    }\n",
       "\n",
       "    .dataframe tbody tr th {\n",
       "        vertical-align: top;\n",
       "    }\n",
       "\n",
       "    .dataframe thead th {\n",
       "        text-align: right;\n",
       "    }\n",
       "</style>\n",
       "<table border=\"1\" class=\"dataframe\">\n",
       "  <thead>\n",
       "    <tr style=\"text-align: right;\">\n",
       "      <th></th>\n",
       "      <th>ATP</th>\n",
       "      <th>AvgL</th>\n",
       "      <th>AvgW</th>\n",
       "      <th>B&amp;WL</th>\n",
       "      <th>B&amp;WW</th>\n",
       "      <th>B365L</th>\n",
       "      <th>B365W</th>\n",
       "      <th>Best of</th>\n",
       "      <th>CBL</th>\n",
       "      <th>CBW</th>\n",
       "      <th>...</th>\n",
       "      <th>W2</th>\n",
       "      <th>W3</th>\n",
       "      <th>W4</th>\n",
       "      <th>W5</th>\n",
       "      <th>WPts</th>\n",
       "      <th>WRank</th>\n",
       "      <th>Winner</th>\n",
       "      <th>Wsets</th>\n",
       "      <th>winner_percent_win</th>\n",
       "      <th>loser_percent_win</th>\n",
       "    </tr>\n",
       "  </thead>\n",
       "  <tbody>\n",
       "    <tr>\n",
       "      <td>0</td>\n",
       "      <td>1</td>\n",
       "      <td>NaN</td>\n",
       "      <td>NaN</td>\n",
       "      <td>NaN</td>\n",
       "      <td>NaN</td>\n",
       "      <td>NaN</td>\n",
       "      <td>NaN</td>\n",
       "      <td>3</td>\n",
       "      <td>NaN</td>\n",
       "      <td>NaN</td>\n",
       "      <td>...</td>\n",
       "      <td>6</td>\n",
       "      <td>NaN</td>\n",
       "      <td>NaN</td>\n",
       "      <td>NaN</td>\n",
       "      <td>NaN</td>\n",
       "      <td>63</td>\n",
       "      <td>Dosedel S.</td>\n",
       "      <td>2.0</td>\n",
       "      <td>0.0</td>\n",
       "      <td>0.0</td>\n",
       "    </tr>\n",
       "    <tr>\n",
       "      <td>1</td>\n",
       "      <td>1</td>\n",
       "      <td>NaN</td>\n",
       "      <td>NaN</td>\n",
       "      <td>NaN</td>\n",
       "      <td>NaN</td>\n",
       "      <td>NaN</td>\n",
       "      <td>NaN</td>\n",
       "      <td>3</td>\n",
       "      <td>NaN</td>\n",
       "      <td>NaN</td>\n",
       "      <td>...</td>\n",
       "      <td>6</td>\n",
       "      <td>NaN</td>\n",
       "      <td>NaN</td>\n",
       "      <td>NaN</td>\n",
       "      <td>NaN</td>\n",
       "      <td>5</td>\n",
       "      <td>Enqvist T.</td>\n",
       "      <td>2.0</td>\n",
       "      <td>0.0</td>\n",
       "      <td>0.0</td>\n",
       "    </tr>\n",
       "    <tr>\n",
       "      <td>2</td>\n",
       "      <td>1</td>\n",
       "      <td>NaN</td>\n",
       "      <td>NaN</td>\n",
       "      <td>NaN</td>\n",
       "      <td>NaN</td>\n",
       "      <td>NaN</td>\n",
       "      <td>NaN</td>\n",
       "      <td>3</td>\n",
       "      <td>NaN</td>\n",
       "      <td>NaN</td>\n",
       "      <td>...</td>\n",
       "      <td>7</td>\n",
       "      <td>6</td>\n",
       "      <td>NaN</td>\n",
       "      <td>NaN</td>\n",
       "      <td>NaN</td>\n",
       "      <td>40</td>\n",
       "      <td>Escude N.</td>\n",
       "      <td>2.0</td>\n",
       "      <td>0.0</td>\n",
       "      <td>0.0</td>\n",
       "    </tr>\n",
       "    <tr>\n",
       "      <td>3</td>\n",
       "      <td>1</td>\n",
       "      <td>NaN</td>\n",
       "      <td>NaN</td>\n",
       "      <td>NaN</td>\n",
       "      <td>NaN</td>\n",
       "      <td>NaN</td>\n",
       "      <td>NaN</td>\n",
       "      <td>3</td>\n",
       "      <td>NaN</td>\n",
       "      <td>NaN</td>\n",
       "      <td>...</td>\n",
       "      <td>6</td>\n",
       "      <td>NaN</td>\n",
       "      <td>NaN</td>\n",
       "      <td>NaN</td>\n",
       "      <td>NaN</td>\n",
       "      <td>65</td>\n",
       "      <td>Federer R.</td>\n",
       "      <td>2.0</td>\n",
       "      <td>0.0</td>\n",
       "      <td>0.0</td>\n",
       "    </tr>\n",
       "    <tr>\n",
       "      <td>4</td>\n",
       "      <td>1</td>\n",
       "      <td>NaN</td>\n",
       "      <td>NaN</td>\n",
       "      <td>NaN</td>\n",
       "      <td>NaN</td>\n",
       "      <td>NaN</td>\n",
       "      <td>NaN</td>\n",
       "      <td>3</td>\n",
       "      <td>NaN</td>\n",
       "      <td>NaN</td>\n",
       "      <td>...</td>\n",
       "      <td>5</td>\n",
       "      <td>6</td>\n",
       "      <td>NaN</td>\n",
       "      <td>NaN</td>\n",
       "      <td>NaN</td>\n",
       "      <td>81</td>\n",
       "      <td>Fromberg R.</td>\n",
       "      <td>2.0</td>\n",
       "      <td>0.0</td>\n",
       "      <td>0.0</td>\n",
       "    </tr>\n",
       "  </tbody>\n",
       "</table>\n",
       "<p>5 rows × 56 columns</p>\n",
       "</div>"
      ],
      "text/plain": [
       "   ATP  AvgL  AvgW  B&WL  B&WW  B365L  B365W  Best of  CBL  CBW  ... W2   W3  \\\n",
       "0    1   NaN   NaN   NaN   NaN    NaN    NaN        3  NaN  NaN  ...  6  NaN   \n",
       "1    1   NaN   NaN   NaN   NaN    NaN    NaN        3  NaN  NaN  ...  6  NaN   \n",
       "2    1   NaN   NaN   NaN   NaN    NaN    NaN        3  NaN  NaN  ...  7    6   \n",
       "3    1   NaN   NaN   NaN   NaN    NaN    NaN        3  NaN  NaN  ...  6  NaN   \n",
       "4    1   NaN   NaN   NaN   NaN    NaN    NaN        3  NaN  NaN  ...  5    6   \n",
       "\n",
       "   W4  W5 WPts  WRank       Winner  Wsets  winner_percent_win  \\\n",
       "0 NaN NaN  NaN     63   Dosedel S.    2.0                 0.0   \n",
       "1 NaN NaN  NaN      5   Enqvist T.    2.0                 0.0   \n",
       "2 NaN NaN  NaN     40    Escude N.    2.0                 0.0   \n",
       "3 NaN NaN  NaN     65   Federer R.    2.0                 0.0   \n",
       "4 NaN NaN  NaN     81  Fromberg R.    2.0                 0.0   \n",
       "\n",
       "   loser_percent_win  \n",
       "0                0.0  \n",
       "1                0.0  \n",
       "2                0.0  \n",
       "3                0.0  \n",
       "4                0.0  \n",
       "\n",
       "[5 rows x 56 columns]"
      ]
     },
     "execution_count": 15,
     "metadata": {},
     "output_type": "execute_result"
    }
   ],
   "source": [
    "# Add a column that calculates percentage, as number of games won over total number of games played \n",
    "\n",
    "# First create function that takes player name and date and returns the percentage of games won\n",
    "def percent_calc(Date, Player):\n",
    "    df_prev = df_atp[df_atp['Date'] < Date]\n",
    "    games_won = df_prev[df_prev['Winner'] == Player].shape[0]\n",
    "    games_lost = df_prev[df_prev['Loser'] == Player].shape[0]\n",
    "    games_total = games_won + games_lost\n",
    "    if games_total == 0:\n",
    "        return 0\n",
    "    return (100.0*games_won)/games_total\n",
    "\n",
    "# Create columns that show the percentage of wins for both players\n",
    "df_atp['winner_percent_win'] = df_atp.apply(lambda row: percent_calc(row['Date'], row['Winner']), axis=1)\n",
    "df_atp['loser_percent_win'] = df_atp.apply(lambda row: percent_calc(row['Date'], row['Loser']), axis=1)\n",
    "df_atp.head()\n"
   ]
  },
  {
   "cell_type": "markdown",
   "metadata": {},
   "source": [
    "## EDA"
   ]
  },
  {
   "cell_type": "markdown",
   "metadata": {},
   "source": [
    "Now we explore the dataset a little more in depth."
   ]
  },
  {
   "cell_type": "markdown",
   "metadata": {},
   "source": [
    "### Datatypes"
   ]
  },
  {
   "cell_type": "markdown",
   "metadata": {},
   "source": [
    "First we should look at the datatypes of the columns (above)\n",
    "\n",
    "Some columns that we would expect to be integers or floats but are objects include: EXW, L2, L3, LRank, W2, W3, and WRank. We would definitely use LRank and WRank as features to predict the outcome."
   ]
  },
  {
   "cell_type": "code",
   "execution_count": 16,
   "metadata": {},
   "outputs": [
    {
     "name": "stdout",
     "output_type": "stream",
     "text": [
      "EXW non integer values: \n",
      "2.,3\n"
     ]
    }
   ],
   "source": [
    "# Look at non integer values of EXW \n",
    "print('EXW non integer values: ')\n",
    "for a in df_atp['EXW']:\n",
    "    try:\n",
    "        a + 1\n",
    "    except:\n",
    "        print(a)"
   ]
  },
  {
   "cell_type": "markdown",
   "metadata": {},
   "source": [
    "As this is an obvious typo, we replace with 2.3"
   ]
  },
  {
   "cell_type": "code",
   "execution_count": 17,
   "metadata": {},
   "outputs": [],
   "source": [
    "df_atp['EXW'] = df_atp['EXW'].apply(lambda x: 2.3 if x=='2.,3' else x)\n",
    "df_atp['EXW'] = df_atp['EXW'].astype('float64')"
   ]
  },
  {
   "cell_type": "code",
   "execution_count": 18,
   "metadata": {
    "scrolled": false
   },
   "outputs": [
    {
     "name": "stdout",
     "output_type": "stream",
     "text": [
      "LRank non integer values: \n",
      "NR\n",
      "NR\n",
      "NR\n",
      "NR\n",
      "NR\n",
      "NR\n",
      "NR\n",
      "NR\n",
      "NR\n",
      "NR\n",
      "NR\n",
      "NR\n",
      "NR\n",
      "NR\n",
      "NR\n",
      "NR\n",
      "NR\n",
      "NR\n",
      "NR\n",
      "NR\n",
      "NR\n",
      "NR\n",
      "NR\n",
      "NR\n",
      "NR\n",
      "NR\n",
      "NR\n",
      "WRank non integer values: \n",
      "NR\n"
     ]
    }
   ],
   "source": [
    "# Look at non integer values of Ranking columns\n",
    "print('LRank non integer values: ')\n",
    "for a in df_atp['LRank']:\n",
    "    try:\n",
    "        a + 1\n",
    "    except:\n",
    "        print(a)\n",
    "\n",
    "print('WRank non integer values: ')\n",
    "for a in df_atp['WRank']:\n",
    "    try:\n",
    "        a + 1\n",
    "    except:\n",
    "        print(a)  "
   ]
  },
  {
   "cell_type": "markdown",
   "metadata": {},
   "source": [
    "We have a few observations where we don't have a ranking available for the player. \n",
    "A non ranked player is usually ranked the lowest (Highest value).\n",
    "Values of 'NR' will be treated as nulls, so in the interest of having a column with all integer values we replace them with NULLs."
   ]
  },
  {
   "cell_type": "code",
   "execution_count": 19,
   "metadata": {},
   "outputs": [],
   "source": [
    "# Replace values of NR with NULL in both columns\n",
    "df_atp['WRank'] = df_atp['WRank'].apply(lambda x: None if x=='NR' else x)\n",
    "df_atp['LRank'] = df_atp['LRank'].apply(lambda x: None if x=='NR' else x)\n",
    "df_atp['WRank'] = df_atp['WRank'].astype('float64')\n",
    "df_atp['LRank'] = df_atp['LRank'].astype('float64')"
   ]
  },
  {
   "cell_type": "markdown",
   "metadata": {},
   "source": [
    "### Betting data"
   ]
  },
  {
   "cell_type": "code",
   "execution_count": 20,
   "metadata": {},
   "outputs": [],
   "source": [
    "# Create dataframe for betting variables \n",
    "odds_columns = ['B365W', 'B365L', 'B&WW', 'B&WL', \n",
    "                'CBW', 'CBL', 'EXW', 'EXL', \n",
    "                'LBW', 'LBL', 'GBW', 'GBL', \n",
    "                'IWW', 'IWL', 'PSW', 'PSL', \n",
    "                'SBW', 'SBL', 'SJW', 'SJL', \n",
    "                'UBW', 'UBL', 'MaxW', 'MaxL', \n",
    "                'AvgW', 'AvgL']\n",
    "\n",
    "df_odds = df_atp[odds_columns]"
   ]
  },
  {
   "cell_type": "code",
   "execution_count": 21,
   "metadata": {},
   "outputs": [
    {
     "data": {
      "text/html": [
       "<div>\n",
       "<style scoped>\n",
       "    .dataframe tbody tr th:only-of-type {\n",
       "        vertical-align: middle;\n",
       "    }\n",
       "\n",
       "    .dataframe tbody tr th {\n",
       "        vertical-align: top;\n",
       "    }\n",
       "\n",
       "    .dataframe thead th {\n",
       "        text-align: right;\n",
       "    }\n",
       "</style>\n",
       "<table border=\"1\" class=\"dataframe\">\n",
       "  <thead>\n",
       "    <tr style=\"text-align: right;\">\n",
       "      <th></th>\n",
       "      <th>count</th>\n",
       "      <th>mean</th>\n",
       "      <th>std</th>\n",
       "      <th>min</th>\n",
       "      <th>25%</th>\n",
       "      <th>50%</th>\n",
       "      <th>75%</th>\n",
       "      <th>max</th>\n",
       "    </tr>\n",
       "  </thead>\n",
       "  <tbody>\n",
       "    <tr>\n",
       "      <td>EXW</td>\n",
       "      <td>39411.0</td>\n",
       "      <td>1.802502</td>\n",
       "      <td>0.959033</td>\n",
       "      <td>0.000</td>\n",
       "      <td>1.250</td>\n",
       "      <td>1.500</td>\n",
       "      <td>2.050</td>\n",
       "      <td>20.00</td>\n",
       "    </tr>\n",
       "    <tr>\n",
       "      <td>SBL</td>\n",
       "      <td>5424.0</td>\n",
       "      <td>2.672064</td>\n",
       "      <td>1.424672</td>\n",
       "      <td>0.000</td>\n",
       "      <td>1.670</td>\n",
       "      <td>2.250</td>\n",
       "      <td>3.000</td>\n",
       "      <td>13.00</td>\n",
       "    </tr>\n",
       "    <tr>\n",
       "      <td>SBW</td>\n",
       "      <td>5424.0</td>\n",
       "      <td>1.793035</td>\n",
       "      <td>0.751026</td>\n",
       "      <td>0.000</td>\n",
       "      <td>1.333</td>\n",
       "      <td>1.571</td>\n",
       "      <td>2.100</td>\n",
       "      <td>9.00</td>\n",
       "    </tr>\n",
       "    <tr>\n",
       "      <td>B365W</td>\n",
       "      <td>43643.0</td>\n",
       "      <td>1.823768</td>\n",
       "      <td>1.100806</td>\n",
       "      <td>1.000</td>\n",
       "      <td>1.222</td>\n",
       "      <td>1.500</td>\n",
       "      <td>2.075</td>\n",
       "      <td>29.00</td>\n",
       "    </tr>\n",
       "    <tr>\n",
       "      <td>CBW</td>\n",
       "      <td>17506.0</td>\n",
       "      <td>1.812080</td>\n",
       "      <td>0.868254</td>\n",
       "      <td>1.000</td>\n",
       "      <td>1.280</td>\n",
       "      <td>1.550</td>\n",
       "      <td>2.050</td>\n",
       "      <td>14.00</td>\n",
       "    </tr>\n",
       "    <tr>\n",
       "      <td>EXL</td>\n",
       "      <td>39416.0</td>\n",
       "      <td>3.262180</td>\n",
       "      <td>2.449627</td>\n",
       "      <td>1.000</td>\n",
       "      <td>1.750</td>\n",
       "      <td>2.460</td>\n",
       "      <td>3.750</td>\n",
       "      <td>40.00</td>\n",
       "    </tr>\n",
       "    <tr>\n",
       "      <td>LBW</td>\n",
       "      <td>28131.0</td>\n",
       "      <td>1.810226</td>\n",
       "      <td>1.031691</td>\n",
       "      <td>1.000</td>\n",
       "      <td>1.250</td>\n",
       "      <td>1.500</td>\n",
       "      <td>2.000</td>\n",
       "      <td>26.00</td>\n",
       "    </tr>\n",
       "    <tr>\n",
       "      <td>LBL</td>\n",
       "      <td>28142.0</td>\n",
       "      <td>3.451461</td>\n",
       "      <td>3.075889</td>\n",
       "      <td>1.000</td>\n",
       "      <td>1.730</td>\n",
       "      <td>2.500</td>\n",
       "      <td>4.000</td>\n",
       "      <td>51.00</td>\n",
       "    </tr>\n",
       "    <tr>\n",
       "      <td>SJW</td>\n",
       "      <td>15572.0</td>\n",
       "      <td>1.796538</td>\n",
       "      <td>1.004273</td>\n",
       "      <td>1.000</td>\n",
       "      <td>1.220</td>\n",
       "      <td>1.500</td>\n",
       "      <td>2.000</td>\n",
       "      <td>19.00</td>\n",
       "    </tr>\n",
       "    <tr>\n",
       "      <td>PSW</td>\n",
       "      <td>37339.0</td>\n",
       "      <td>1.926742</td>\n",
       "      <td>1.334797</td>\n",
       "      <td>1.000</td>\n",
       "      <td>1.270</td>\n",
       "      <td>1.550</td>\n",
       "      <td>2.140</td>\n",
       "      <td>46.00</td>\n",
       "    </tr>\n",
       "    <tr>\n",
       "      <td>B365L</td>\n",
       "      <td>43666.0</td>\n",
       "      <td>3.551805</td>\n",
       "      <td>3.527564</td>\n",
       "      <td>1.002</td>\n",
       "      <td>1.720</td>\n",
       "      <td>2.500</td>\n",
       "      <td>4.000</td>\n",
       "      <td>101.00</td>\n",
       "    </tr>\n",
       "    <tr>\n",
       "      <td>MaxL</td>\n",
       "      <td>22745.0</td>\n",
       "      <td>8.326076</td>\n",
       "      <td>397.235666</td>\n",
       "      <td>1.010</td>\n",
       "      <td>1.850</td>\n",
       "      <td>2.780</td>\n",
       "      <td>4.540</td>\n",
       "      <td>42586.00</td>\n",
       "    </tr>\n",
       "    <tr>\n",
       "      <td>MaxW</td>\n",
       "      <td>22745.0</td>\n",
       "      <td>1.998610</td>\n",
       "      <td>1.628982</td>\n",
       "      <td>1.010</td>\n",
       "      <td>1.290</td>\n",
       "      <td>1.570</td>\n",
       "      <td>2.200</td>\n",
       "      <td>76.00</td>\n",
       "    </tr>\n",
       "    <tr>\n",
       "      <td>UBW</td>\n",
       "      <td>10671.0</td>\n",
       "      <td>1.815867</td>\n",
       "      <td>0.996238</td>\n",
       "      <td>1.010</td>\n",
       "      <td>1.240</td>\n",
       "      <td>1.500</td>\n",
       "      <td>2.030</td>\n",
       "      <td>18.00</td>\n",
       "    </tr>\n",
       "    <tr>\n",
       "      <td>SJL</td>\n",
       "      <td>15579.0</td>\n",
       "      <td>3.557943</td>\n",
       "      <td>3.272510</td>\n",
       "      <td>1.010</td>\n",
       "      <td>1.730</td>\n",
       "      <td>2.630</td>\n",
       "      <td>4.000</td>\n",
       "      <td>81.00</td>\n",
       "    </tr>\n",
       "    <tr>\n",
       "      <td>IWW</td>\n",
       "      <td>13358.0</td>\n",
       "      <td>1.671585</td>\n",
       "      <td>0.585400</td>\n",
       "      <td>1.010</td>\n",
       "      <td>1.300</td>\n",
       "      <td>1.500</td>\n",
       "      <td>1.850</td>\n",
       "      <td>6.00</td>\n",
       "    </tr>\n",
       "    <tr>\n",
       "      <td>AvgW</td>\n",
       "      <td>22745.0</td>\n",
       "      <td>1.834821</td>\n",
       "      <td>1.107884</td>\n",
       "      <td>1.010</td>\n",
       "      <td>1.240</td>\n",
       "      <td>1.500</td>\n",
       "      <td>2.060</td>\n",
       "      <td>23.45</td>\n",
       "    </tr>\n",
       "    <tr>\n",
       "      <td>GBW</td>\n",
       "      <td>5055.0</td>\n",
       "      <td>1.738742</td>\n",
       "      <td>0.614454</td>\n",
       "      <td>1.010</td>\n",
       "      <td>1.330</td>\n",
       "      <td>1.550</td>\n",
       "      <td>1.980</td>\n",
       "      <td>7.50</td>\n",
       "    </tr>\n",
       "    <tr>\n",
       "      <td>B&amp;WW</td>\n",
       "      <td>1097.0</td>\n",
       "      <td>1.728633</td>\n",
       "      <td>0.730434</td>\n",
       "      <td>1.010</td>\n",
       "      <td>1.250</td>\n",
       "      <td>1.500</td>\n",
       "      <td>1.950</td>\n",
       "      <td>7.50</td>\n",
       "    </tr>\n",
       "    <tr>\n",
       "      <td>PSL</td>\n",
       "      <td>37339.0</td>\n",
       "      <td>4.186818</td>\n",
       "      <td>5.581127</td>\n",
       "      <td>1.010</td>\n",
       "      <td>1.794</td>\n",
       "      <td>2.660</td>\n",
       "      <td>4.240</td>\n",
       "      <td>121.00</td>\n",
       "    </tr>\n",
       "    <tr>\n",
       "      <td>AvgL</td>\n",
       "      <td>22745.0</td>\n",
       "      <td>3.594448</td>\n",
       "      <td>3.282610</td>\n",
       "      <td>1.010</td>\n",
       "      <td>1.740</td>\n",
       "      <td>2.550</td>\n",
       "      <td>3.990</td>\n",
       "      <td>36.44</td>\n",
       "    </tr>\n",
       "    <tr>\n",
       "      <td>CBL</td>\n",
       "      <td>17506.0</td>\n",
       "      <td>3.000658</td>\n",
       "      <td>2.032791</td>\n",
       "      <td>1.020</td>\n",
       "      <td>1.720</td>\n",
       "      <td>2.375</td>\n",
       "      <td>3.400</td>\n",
       "      <td>25.00</td>\n",
       "    </tr>\n",
       "    <tr>\n",
       "      <td>UBL</td>\n",
       "      <td>10671.0</td>\n",
       "      <td>3.542479</td>\n",
       "      <td>3.646316</td>\n",
       "      <td>1.020</td>\n",
       "      <td>1.750</td>\n",
       "      <td>2.500</td>\n",
       "      <td>3.850</td>\n",
       "      <td>60.00</td>\n",
       "    </tr>\n",
       "    <tr>\n",
       "      <td>B&amp;WL</td>\n",
       "      <td>1097.0</td>\n",
       "      <td>2.547347</td>\n",
       "      <td>1.330386</td>\n",
       "      <td>1.020</td>\n",
       "      <td>1.600</td>\n",
       "      <td>2.150</td>\n",
       "      <td>3.100</td>\n",
       "      <td>9.00</td>\n",
       "    </tr>\n",
       "    <tr>\n",
       "      <td>IWL</td>\n",
       "      <td>13358.0</td>\n",
       "      <td>2.387132</td>\n",
       "      <td>1.048818</td>\n",
       "      <td>1.030</td>\n",
       "      <td>1.650</td>\n",
       "      <td>2.100</td>\n",
       "      <td>2.900</td>\n",
       "      <td>10.00</td>\n",
       "    </tr>\n",
       "    <tr>\n",
       "      <td>GBL</td>\n",
       "      <td>5055.0</td>\n",
       "      <td>2.401363</td>\n",
       "      <td>1.057305</td>\n",
       "      <td>1.030</td>\n",
       "      <td>1.655</td>\n",
       "      <td>2.100</td>\n",
       "      <td>2.800</td>\n",
       "      <td>11.00</td>\n",
       "    </tr>\n",
       "  </tbody>\n",
       "</table>\n",
       "</div>"
      ],
      "text/plain": [
       "         count      mean         std    min    25%    50%    75%       max\n",
       "EXW    39411.0  1.802502    0.959033  0.000  1.250  1.500  2.050     20.00\n",
       "SBL     5424.0  2.672064    1.424672  0.000  1.670  2.250  3.000     13.00\n",
       "SBW     5424.0  1.793035    0.751026  0.000  1.333  1.571  2.100      9.00\n",
       "B365W  43643.0  1.823768    1.100806  1.000  1.222  1.500  2.075     29.00\n",
       "CBW    17506.0  1.812080    0.868254  1.000  1.280  1.550  2.050     14.00\n",
       "EXL    39416.0  3.262180    2.449627  1.000  1.750  2.460  3.750     40.00\n",
       "LBW    28131.0  1.810226    1.031691  1.000  1.250  1.500  2.000     26.00\n",
       "LBL    28142.0  3.451461    3.075889  1.000  1.730  2.500  4.000     51.00\n",
       "SJW    15572.0  1.796538    1.004273  1.000  1.220  1.500  2.000     19.00\n",
       "PSW    37339.0  1.926742    1.334797  1.000  1.270  1.550  2.140     46.00\n",
       "B365L  43666.0  3.551805    3.527564  1.002  1.720  2.500  4.000    101.00\n",
       "MaxL   22745.0  8.326076  397.235666  1.010  1.850  2.780  4.540  42586.00\n",
       "MaxW   22745.0  1.998610    1.628982  1.010  1.290  1.570  2.200     76.00\n",
       "UBW    10671.0  1.815867    0.996238  1.010  1.240  1.500  2.030     18.00\n",
       "SJL    15579.0  3.557943    3.272510  1.010  1.730  2.630  4.000     81.00\n",
       "IWW    13358.0  1.671585    0.585400  1.010  1.300  1.500  1.850      6.00\n",
       "AvgW   22745.0  1.834821    1.107884  1.010  1.240  1.500  2.060     23.45\n",
       "GBW     5055.0  1.738742    0.614454  1.010  1.330  1.550  1.980      7.50\n",
       "B&WW    1097.0  1.728633    0.730434  1.010  1.250  1.500  1.950      7.50\n",
       "PSL    37339.0  4.186818    5.581127  1.010  1.794  2.660  4.240    121.00\n",
       "AvgL   22745.0  3.594448    3.282610  1.010  1.740  2.550  3.990     36.44\n",
       "CBL    17506.0  3.000658    2.032791  1.020  1.720  2.375  3.400     25.00\n",
       "UBL    10671.0  3.542479    3.646316  1.020  1.750  2.500  3.850     60.00\n",
       "B&WL    1097.0  2.547347    1.330386  1.020  1.600  2.150  3.100      9.00\n",
       "IWL    13358.0  2.387132    1.048818  1.030  1.650  2.100  2.900     10.00\n",
       "GBL     5055.0  2.401363    1.057305  1.030  1.655  2.100  2.800     11.00"
      ]
     },
     "execution_count": 21,
     "metadata": {},
     "output_type": "execute_result"
    }
   ],
   "source": [
    "# Look at some statistics\n",
    "df_odds.describe().T.sort_values(by='min')"
   ]
  },
  {
   "cell_type": "markdown",
   "metadata": {},
   "source": [
    "For some columns, we have the minimum as 0. This value doesn't make sense, as the odds are at least 1. \n",
    "Odds here represent the return on your money if your player wins, so it makes no sense to receive 0 * your bet.\n",
    "\n",
    "Another value that is worth looking at is for MaxL, with a max value of 42586"
   ]
  },
  {
   "cell_type": "code",
   "execution_count": 22,
   "metadata": {},
   "outputs": [
    {
     "data": {
      "text/html": [
       "<div>\n",
       "<style scoped>\n",
       "    .dataframe tbody tr th:only-of-type {\n",
       "        vertical-align: middle;\n",
       "    }\n",
       "\n",
       "    .dataframe tbody tr th {\n",
       "        vertical-align: top;\n",
       "    }\n",
       "\n",
       "    .dataframe thead th {\n",
       "        text-align: right;\n",
       "    }\n",
       "</style>\n",
       "<table border=\"1\" class=\"dataframe\">\n",
       "  <thead>\n",
       "    <tr style=\"text-align: right;\">\n",
       "      <th></th>\n",
       "      <th>B365W</th>\n",
       "      <th>B365L</th>\n",
       "      <th>B&amp;WW</th>\n",
       "      <th>B&amp;WL</th>\n",
       "      <th>CBW</th>\n",
       "      <th>CBL</th>\n",
       "      <th>EXW</th>\n",
       "      <th>EXL</th>\n",
       "      <th>LBW</th>\n",
       "      <th>LBL</th>\n",
       "      <th>...</th>\n",
       "      <th>SBW</th>\n",
       "      <th>SBL</th>\n",
       "      <th>SJW</th>\n",
       "      <th>SJL</th>\n",
       "      <th>UBW</th>\n",
       "      <th>UBL</th>\n",
       "      <th>MaxW</th>\n",
       "      <th>MaxL</th>\n",
       "      <th>AvgW</th>\n",
       "      <th>AvgL</th>\n",
       "    </tr>\n",
       "  </thead>\n",
       "  <tbody>\n",
       "    <tr>\n",
       "      <td>5912</td>\n",
       "      <td>NaN</td>\n",
       "      <td>NaN</td>\n",
       "      <td>NaN</td>\n",
       "      <td>NaN</td>\n",
       "      <td>1.60</td>\n",
       "      <td>2.25</td>\n",
       "      <td>NaN</td>\n",
       "      <td>NaN</td>\n",
       "      <td>NaN</td>\n",
       "      <td>NaN</td>\n",
       "      <td>...</td>\n",
       "      <td>0.0</td>\n",
       "      <td>0.0</td>\n",
       "      <td>NaN</td>\n",
       "      <td>NaN</td>\n",
       "      <td>NaN</td>\n",
       "      <td>NaN</td>\n",
       "      <td>NaN</td>\n",
       "      <td>NaN</td>\n",
       "      <td>NaN</td>\n",
       "      <td>NaN</td>\n",
       "    </tr>\n",
       "    <tr>\n",
       "      <td>14655</td>\n",
       "      <td>1.8</td>\n",
       "      <td>1.9</td>\n",
       "      <td>NaN</td>\n",
       "      <td>NaN</td>\n",
       "      <td>1.85</td>\n",
       "      <td>1.92</td>\n",
       "      <td>0.0</td>\n",
       "      <td>1.87</td>\n",
       "      <td>NaN</td>\n",
       "      <td>NaN</td>\n",
       "      <td>...</td>\n",
       "      <td>NaN</td>\n",
       "      <td>NaN</td>\n",
       "      <td>NaN</td>\n",
       "      <td>NaN</td>\n",
       "      <td>NaN</td>\n",
       "      <td>NaN</td>\n",
       "      <td>NaN</td>\n",
       "      <td>NaN</td>\n",
       "      <td>NaN</td>\n",
       "      <td>NaN</td>\n",
       "    </tr>\n",
       "  </tbody>\n",
       "</table>\n",
       "<p>2 rows × 26 columns</p>\n",
       "</div>"
      ],
      "text/plain": [
       "       B365W  B365L  B&WW  B&WL   CBW   CBL  EXW   EXL  LBW  LBL  ...  SBW  \\\n",
       "5912     NaN    NaN   NaN   NaN  1.60  2.25  NaN   NaN  NaN  NaN  ...  0.0   \n",
       "14655    1.8    1.9   NaN   NaN  1.85  1.92  0.0  1.87  NaN  NaN  ...  NaN   \n",
       "\n",
       "       SBL  SJW  SJL  UBW  UBL  MaxW  MaxL  AvgW  AvgL  \n",
       "5912   0.0  NaN  NaN  NaN  NaN   NaN   NaN   NaN   NaN  \n",
       "14655  NaN  NaN  NaN  NaN  NaN   NaN   NaN   NaN   NaN  \n",
       "\n",
       "[2 rows x 26 columns]"
      ]
     },
     "execution_count": 22,
     "metadata": {},
     "output_type": "execute_result"
    }
   ],
   "source": [
    "# Show rows with odds < 1\n",
    "df_odds[(df_odds['SBL'] < 1) | (df_odds['EXW'] < 1) | (df_odds['SBW'] < 1)]"
   ]
  },
  {
   "cell_type": "markdown",
   "metadata": {},
   "source": [
    "Since this happens in only 2 occurences, a safe number to impute those values with is 1.0, basically meaning that the player has a 50% chance of winning.\n"
   ]
  },
  {
   "cell_type": "code",
   "execution_count": 23,
   "metadata": {},
   "outputs": [],
   "source": [
    "# Replace the values\n",
    "df_atp['SBL'] = df_atp['SBL'].apply(lambda x: 1.0 if x == 0 else x)\n",
    "df_atp['SBW'] = df_atp['SBW'].apply(lambda x: 1.0 if x == 0 else x)\n",
    "df_atp['EXW'] = df_atp['EXW'].apply(lambda x: 1.0 if x == 0 else x)"
   ]
  },
  {
   "cell_type": "code",
   "execution_count": 24,
   "metadata": {},
   "outputs": [
    {
     "data": {
      "image/png": "[encoded data removed]",
      "text/plain": [
       "<Figure size 432x288 with 1 Axes>"
      ]
     },
     "metadata": {
      "needs_background": "light"
     },
     "output_type": "display_data"
    }
   ],
   "source": [
    "# Let us look at MaxL and plot boxplot\n",
    "sns.boxplot(x = 'MaxL', data = df_atp[['MaxL']])\n",
    "plt.title(\"Box Plot of MaxL\");"
   ]
  },
  {
   "cell_type": "markdown",
   "metadata": {},
   "source": [
    "We can see the outliers are extremely far to the right"
   ]
  },
  {
   "cell_type": "code",
   "execution_count": 25,
   "metadata": {},
   "outputs": [
    {
     "data": {
      "text/html": [
       "<div>\n",
       "<style scoped>\n",
       "    .dataframe tbody tr th:only-of-type {\n",
       "        vertical-align: middle;\n",
       "    }\n",
       "\n",
       "    .dataframe tbody tr th {\n",
       "        vertical-align: top;\n",
       "    }\n",
       "\n",
       "    .dataframe thead th {\n",
       "        text-align: right;\n",
       "    }\n",
       "</style>\n",
       "<table border=\"1\" class=\"dataframe\">\n",
       "  <thead>\n",
       "    <tr style=\"text-align: right;\">\n",
       "      <th></th>\n",
       "      <th>Date</th>\n",
       "      <th>Winner</th>\n",
       "      <th>Loser</th>\n",
       "      <th>Tournament</th>\n",
       "      <th>MaxL</th>\n",
       "    </tr>\n",
       "  </thead>\n",
       "  <tbody>\n",
       "    <tr>\n",
       "      <td>43332</td>\n",
       "      <td>2015-06-30</td>\n",
       "      <td>Nadal R.</td>\n",
       "      <td>Bellucci T.</td>\n",
       "      <td>Wimbledon</td>\n",
       "      <td>42136.0</td>\n",
       "    </tr>\n",
       "    <tr>\n",
       "      <td>46527</td>\n",
       "      <td>2016-08-30</td>\n",
       "      <td>Thiem D.</td>\n",
       "      <td>Millman J.</td>\n",
       "      <td>US Open</td>\n",
       "      <td>42586.0</td>\n",
       "    </tr>\n",
       "  </tbody>\n",
       "</table>\n",
       "</div>"
      ],
      "text/plain": [
       "            Date    Winner        Loser Tournament     MaxL\n",
       "43332 2015-06-30  Nadal R.  Bellucci T.  Wimbledon  42136.0\n",
       "46527 2016-08-30  Thiem D.   Millman J.    US Open  42586.0"
      ]
     },
     "execution_count": 25,
     "metadata": {},
     "output_type": "execute_result"
    }
   ],
   "source": [
    "# Look at the rows with these values\n",
    "df_atp[df_atp['MaxL'] > 5000][['Date', 'Winner', 'Loser', 'Tournament', 'MaxL']]"
   ]
  },
  {
   "cell_type": "code",
   "execution_count": 26,
   "metadata": {},
   "outputs": [],
   "source": [
    "# It was very easy to find the actual values on oddsportal.com \n",
    "# Source: https://www.oddsportal.com/tennis/united-kingdom/atp-wimbledon-2015/bellucci-thomaz-nadal-rafael-Yy5iMIS2/#home-away;2\n",
    "\n",
    "df_atp.loc[df_atp['MaxL'] == 42136, 'MaxL'] = 13.0\n",
    "df_atp.loc[df_atp['MaxL'] == 42586, 'MaxL'] = 5.25"
   ]
  },
  {
   "cell_type": "markdown",
   "metadata": {},
   "source": [
    "### Missing Values"
   ]
  },
  {
   "cell_type": "code",
   "execution_count": 27,
   "metadata": {},
   "outputs": [],
   "source": [
    "# First drop all rows where all variables are nulls if there are any\n",
    "df_atp = df_atp.dropna(axis=0, how='all')"
   ]
  },
  {
   "cell_type": "code",
   "execution_count": 28,
   "metadata": {
    "scrolled": false
   },
   "outputs": [
    {
     "name": "stderr",
     "output_type": "stream",
     "text": [
      "INFO:numexpr.utils:Note: NumExpr detected 16 cores but \"NUMEXPR_MAX_THREADS\" not set, so enforcing safe limit of 8.\n",
      "INFO:numexpr.utils:NumExpr defaulting to 8 threads.\n"
     ]
    },
    {
     "data": {
      "text/html": [
       "<div>\n",
       "<style scoped>\n",
       "    .dataframe tbody tr th:only-of-type {\n",
       "        vertical-align: middle;\n",
       "    }\n",
       "\n",
       "    .dataframe tbody tr th {\n",
       "        vertical-align: top;\n",
       "    }\n",
       "\n",
       "    .dataframe thead th {\n",
       "        text-align: right;\n",
       "    }\n",
       "</style>\n",
       "<table border=\"1\" class=\"dataframe\">\n",
       "  <thead>\n",
       "    <tr style=\"text-align: right;\">\n",
       "      <th></th>\n",
       "      <th>null count</th>\n",
       "      <th>percent null</th>\n",
       "    </tr>\n",
       "  </thead>\n",
       "  <tbody>\n",
       "    <tr>\n",
       "      <td>B&amp;WL</td>\n",
       "      <td>51201</td>\n",
       "      <td>97.902405</td>\n",
       "    </tr>\n",
       "    <tr>\n",
       "      <td>B&amp;WW</td>\n",
       "      <td>51201</td>\n",
       "      <td>97.902405</td>\n",
       "    </tr>\n",
       "    <tr>\n",
       "      <td>L5</td>\n",
       "      <td>50507</td>\n",
       "      <td>96.575395</td>\n",
       "    </tr>\n",
       "    <tr>\n",
       "      <td>W5</td>\n",
       "      <td>50507</td>\n",
       "      <td>96.575395</td>\n",
       "    </tr>\n",
       "    <tr>\n",
       "      <td>L4</td>\n",
       "      <td>47567</td>\n",
       "      <td>90.953765</td>\n",
       "    </tr>\n",
       "    <tr>\n",
       "      <td>W4</td>\n",
       "      <td>47567</td>\n",
       "      <td>90.953765</td>\n",
       "    </tr>\n",
       "    <tr>\n",
       "      <td>GBL</td>\n",
       "      <td>47243</td>\n",
       "      <td>90.334238</td>\n",
       "    </tr>\n",
       "    <tr>\n",
       "      <td>GBW</td>\n",
       "      <td>47243</td>\n",
       "      <td>90.334238</td>\n",
       "    </tr>\n",
       "    <tr>\n",
       "      <td>SBL</td>\n",
       "      <td>46874</td>\n",
       "      <td>89.628666</td>\n",
       "    </tr>\n",
       "    <tr>\n",
       "      <td>SBW</td>\n",
       "      <td>46874</td>\n",
       "      <td>89.628666</td>\n",
       "    </tr>\n",
       "    <tr>\n",
       "      <td>UBW</td>\n",
       "      <td>41627</td>\n",
       "      <td>79.595778</td>\n",
       "    </tr>\n",
       "    <tr>\n",
       "      <td>UBL</td>\n",
       "      <td>41627</td>\n",
       "      <td>79.595778</td>\n",
       "    </tr>\n",
       "    <tr>\n",
       "      <td>IWL</td>\n",
       "      <td>38940</td>\n",
       "      <td>74.457914</td>\n",
       "    </tr>\n",
       "    <tr>\n",
       "      <td>IWW</td>\n",
       "      <td>38940</td>\n",
       "      <td>74.457914</td>\n",
       "    </tr>\n",
       "    <tr>\n",
       "      <td>SJW</td>\n",
       "      <td>36726</td>\n",
       "      <td>70.224483</td>\n",
       "    </tr>\n",
       "    <tr>\n",
       "      <td>SJL</td>\n",
       "      <td>36719</td>\n",
       "      <td>70.211098</td>\n",
       "    </tr>\n",
       "    <tr>\n",
       "      <td>CBW</td>\n",
       "      <td>34792</td>\n",
       "      <td>66.526445</td>\n",
       "    </tr>\n",
       "    <tr>\n",
       "      <td>CBL</td>\n",
       "      <td>34792</td>\n",
       "      <td>66.526445</td>\n",
       "    </tr>\n",
       "    <tr>\n",
       "      <td>AvgW</td>\n",
       "      <td>29553</td>\n",
       "      <td>56.508853</td>\n",
       "    </tr>\n",
       "    <tr>\n",
       "      <td>AvgL</td>\n",
       "      <td>29553</td>\n",
       "      <td>56.508853</td>\n",
       "    </tr>\n",
       "    <tr>\n",
       "      <td>MaxW</td>\n",
       "      <td>29553</td>\n",
       "      <td>56.508853</td>\n",
       "    </tr>\n",
       "    <tr>\n",
       "      <td>MaxL</td>\n",
       "      <td>29553</td>\n",
       "      <td>56.508853</td>\n",
       "    </tr>\n",
       "    <tr>\n",
       "      <td>L3</td>\n",
       "      <td>28130</td>\n",
       "      <td>53.787908</td>\n",
       "    </tr>\n",
       "    <tr>\n",
       "      <td>W3</td>\n",
       "      <td>28129</td>\n",
       "      <td>53.785996</td>\n",
       "    </tr>\n",
       "    <tr>\n",
       "      <td>LBW</td>\n",
       "      <td>24167</td>\n",
       "      <td>46.210180</td>\n",
       "    </tr>\n",
       "    <tr>\n",
       "      <td>LBL</td>\n",
       "      <td>24156</td>\n",
       "      <td>46.189147</td>\n",
       "    </tr>\n",
       "    <tr>\n",
       "      <td>LPts</td>\n",
       "      <td>16263</td>\n",
       "      <td>31.096791</td>\n",
       "    </tr>\n",
       "    <tr>\n",
       "      <td>WPts</td>\n",
       "      <td>16204</td>\n",
       "      <td>30.983976</td>\n",
       "    </tr>\n",
       "    <tr>\n",
       "      <td>PSL</td>\n",
       "      <td>14959</td>\n",
       "      <td>28.603388</td>\n",
       "    </tr>\n",
       "    <tr>\n",
       "      <td>PSW</td>\n",
       "      <td>14959</td>\n",
       "      <td>28.603388</td>\n",
       "    </tr>\n",
       "    <tr>\n",
       "      <td>EXW</td>\n",
       "      <td>12887</td>\n",
       "      <td>24.641478</td>\n",
       "    </tr>\n",
       "    <tr>\n",
       "      <td>EXL</td>\n",
       "      <td>12882</td>\n",
       "      <td>24.631917</td>\n",
       "    </tr>\n",
       "    <tr>\n",
       "      <td>B365W</td>\n",
       "      <td>8655</td>\n",
       "      <td>16.549390</td>\n",
       "    </tr>\n",
       "    <tr>\n",
       "      <td>B365L</td>\n",
       "      <td>8632</td>\n",
       "      <td>16.505411</td>\n",
       "    </tr>\n",
       "    <tr>\n",
       "      <td>W2</td>\n",
       "      <td>772</td>\n",
       "      <td>1.476156</td>\n",
       "    </tr>\n",
       "    <tr>\n",
       "      <td>L2</td>\n",
       "      <td>771</td>\n",
       "      <td>1.474244</td>\n",
       "    </tr>\n",
       "    <tr>\n",
       "      <td>W1</td>\n",
       "      <td>263</td>\n",
       "      <td>0.502887</td>\n",
       "    </tr>\n",
       "    <tr>\n",
       "      <td>L1</td>\n",
       "      <td>261</td>\n",
       "      <td>0.499063</td>\n",
       "    </tr>\n",
       "    <tr>\n",
       "      <td>Lsets</td>\n",
       "      <td>225</td>\n",
       "      <td>0.430227</td>\n",
       "    </tr>\n",
       "    <tr>\n",
       "      <td>Wsets</td>\n",
       "      <td>224</td>\n",
       "      <td>0.428315</td>\n",
       "    </tr>\n",
       "    <tr>\n",
       "      <td>LRank</td>\n",
       "      <td>105</td>\n",
       "      <td>0.200772</td>\n",
       "    </tr>\n",
       "    <tr>\n",
       "      <td>WRank</td>\n",
       "      <td>16</td>\n",
       "      <td>0.030594</td>\n",
       "    </tr>\n",
       "  </tbody>\n",
       "</table>\n",
       "</div>"
      ],
      "text/plain": [
       "       null count  percent null\n",
       "B&WL        51201     97.902405\n",
       "B&WW        51201     97.902405\n",
       "L5          50507     96.575395\n",
       "W5          50507     96.575395\n",
       "L4          47567     90.953765\n",
       "W4          47567     90.953765\n",
       "GBL         47243     90.334238\n",
       "GBW         47243     90.334238\n",
       "SBL         46874     89.628666\n",
       "SBW         46874     89.628666\n",
       "UBW         41627     79.595778\n",
       "UBL         41627     79.595778\n",
       "IWL         38940     74.457914\n",
       "IWW         38940     74.457914\n",
       "SJW         36726     70.224483\n",
       "SJL         36719     70.211098\n",
       "CBW         34792     66.526445\n",
       "CBL         34792     66.526445\n",
       "AvgW        29553     56.508853\n",
       "AvgL        29553     56.508853\n",
       "MaxW        29553     56.508853\n",
       "MaxL        29553     56.508853\n",
       "L3          28130     53.787908\n",
       "W3          28129     53.785996\n",
       "LBW         24167     46.210180\n",
       "LBL         24156     46.189147\n",
       "LPts        16263     31.096791\n",
       "WPts        16204     30.983976\n",
       "PSL         14959     28.603388\n",
       "PSW         14959     28.603388\n",
       "EXW         12887     24.641478\n",
       "EXL         12882     24.631917\n",
       "B365W        8655     16.549390\n",
       "B365L        8632     16.505411\n",
       "W2            772      1.476156\n",
       "L2            771      1.474244\n",
       "W1            263      0.502887\n",
       "L1            261      0.499063\n",
       "Lsets         225      0.430227\n",
       "Wsets         224      0.428315\n",
       "LRank         105      0.200772\n",
       "WRank          16      0.030594"
      ]
     },
     "execution_count": 28,
     "metadata": {},
     "output_type": "execute_result"
    }
   ],
   "source": [
    "# Let's look at the number and percentage of null values in each column\n",
    "null_counter = pd.DataFrame({'null count': df_atp.isnull().sum().sort_values(ascending=False), \n",
    "                             'percent null': 100.0 * df_atp.isnull().sum().sort_values(ascending=False)/ df_atp.shape[0]},\n",
    "                            index = df_atp.isnull().sum().sort_values(ascending=False).index)\n",
    "\n",
    "null_counter[null_counter['null count']>0]"
   ]
  },
  {
   "cell_type": "code",
   "execution_count": 29,
   "metadata": {
    "scrolled": false
   },
   "outputs": [
    {
     "data": {
      "image/png": "[encoded data removed]",
      "text/plain": [
       "<Figure size 792x432 with 1 Axes>"
      ]
     },
     "metadata": {
      "needs_background": "light"
     },
     "output_type": "display_data"
    }
   ],
   "source": [
    "# Sort counts\n",
    "missing = df_atp.isnull().sum()\n",
    "missing = missing[missing > 0]\n",
    "missing.sort_values(inplace=True)\n",
    "\n",
    "# Plot this as a bar chart for each feature\n",
    "plt.figure(figsize=(11,6))\n",
    "sns.barplot(x = list(missing.index), y = list(missing.values), palette=\"Reds\")\n",
    "plt.title(\"Features with Missing Values\", size=15)\n",
    "plt.xlabel(\"Feature\", size=12)\n",
    "plt.ylabel(\"Number of Nulls in Column\", size=12)\n",
    "plt.xticks(rotation='vertical');"
   ]
  },
  {
   "cell_type": "markdown",
   "metadata": {},
   "source": [
    "Looking at features with missing columns, we can separate them into 4 categories:\n",
    "- Ranking columns\n",
    "- Points columns \n",
    "- Odds columns\n",
    "- Set resutls columns\n",
    "\n",
    "We need to come up with strategies to impute values in those categories. "
   ]
  },
  {
   "cell_type": "markdown",
   "metadata": {},
   "source": [
    "#### 1- Rank Values"
   ]
  },
  {
   "cell_type": "code",
   "execution_count": 30,
   "metadata": {
    "scrolled": false
   },
   "outputs": [
    {
     "data": {
      "text/html": [
       "<div>\n",
       "<style scoped>\n",
       "    .dataframe tbody tr th:only-of-type {\n",
       "        vertical-align: middle;\n",
       "    }\n",
       "\n",
       "    .dataframe tbody tr th {\n",
       "        vertical-align: top;\n",
       "    }\n",
       "\n",
       "    .dataframe thead th {\n",
       "        text-align: right;\n",
       "    }\n",
       "</style>\n",
       "<table border=\"1\" class=\"dataframe\">\n",
       "  <thead>\n",
       "    <tr style=\"text-align: right;\">\n",
       "      <th></th>\n",
       "      <th>WRank</th>\n",
       "      <th>LRank</th>\n",
       "    </tr>\n",
       "  </thead>\n",
       "  <tbody>\n",
       "    <tr>\n",
       "      <td>count</td>\n",
       "      <td>52282.000000</td>\n",
       "      <td>52193.000000</td>\n",
       "    </tr>\n",
       "    <tr>\n",
       "      <td>mean</td>\n",
       "      <td>59.172564</td>\n",
       "      <td>92.227042</td>\n",
       "    </tr>\n",
       "    <tr>\n",
       "      <td>std</td>\n",
       "      <td>73.614866</td>\n",
       "      <td>116.947845</td>\n",
       "    </tr>\n",
       "    <tr>\n",
       "      <td>min</td>\n",
       "      <td>1.000000</td>\n",
       "      <td>1.000000</td>\n",
       "    </tr>\n",
       "    <tr>\n",
       "      <td>25%</td>\n",
       "      <td>17.000000</td>\n",
       "      <td>35.000000</td>\n",
       "    </tr>\n",
       "    <tr>\n",
       "      <td>50%</td>\n",
       "      <td>41.000000</td>\n",
       "      <td>65.000000</td>\n",
       "    </tr>\n",
       "    <tr>\n",
       "      <td>75%</td>\n",
       "      <td>77.000000</td>\n",
       "      <td>105.000000</td>\n",
       "    </tr>\n",
       "    <tr>\n",
       "      <td>max</td>\n",
       "      <td>1890.000000</td>\n",
       "      <td>2159.000000</td>\n",
       "    </tr>\n",
       "  </tbody>\n",
       "</table>\n",
       "</div>"
      ],
      "text/plain": [
       "              WRank         LRank\n",
       "count  52282.000000  52193.000000\n",
       "mean      59.172564     92.227042\n",
       "std       73.614866    116.947845\n",
       "min        1.000000      1.000000\n",
       "25%       17.000000     35.000000\n",
       "50%       41.000000     65.000000\n",
       "75%       77.000000    105.000000\n",
       "max     1890.000000   2159.000000"
      ]
     },
     "execution_count": 30,
     "metadata": {},
     "output_type": "execute_result"
    }
   ],
   "source": [
    "# Look at basic statistics\n",
    "df_atp.describe()[['WRank', 'LRank']]"
   ]
  },
  {
   "cell_type": "code",
   "execution_count": 31,
   "metadata": {},
   "outputs": [
    {
     "data": {
      "image/png": "[encoded data removed]",
      "text/plain": [
       "<Figure size 432x288 with 1 Axes>"
      ]
     },
     "metadata": {
      "needs_background": "light"
     },
     "output_type": "display_data"
    }
   ],
   "source": [
    "# Let us look at RankW and plot boxplot\n",
    "sns.boxplot(x = 'WRank', data = df_atp[['WRank']])\n",
    "plt.title(\"Box Plot of WRank\");"
   ]
  },
  {
   "cell_type": "code",
   "execution_count": 32,
   "metadata": {
    "scrolled": true
   },
   "outputs": [
    {
     "data": {
      "image/png": "[encoded data removed]",
      "text/plain": [
       "<Figure size 432x288 with 1 Axes>"
      ]
     },
     "metadata": {
      "needs_background": "light"
     },
     "output_type": "display_data"
    }
   ],
   "source": [
    "# Let us look at RankL and plot boxplot\n",
    "sns.boxplot(x = 'LRank', data = df_atp[['LRank']])\n",
    "plt.title(\"Box Plot of LRank\");"
   ]
  },
  {
   "cell_type": "markdown",
   "metadata": {},
   "source": [
    "The point columns represent the ATP Entry points of the player at the start of the tournament. \n",
    "Ranking of the players are based on their points, so it is worth looking at the relationship between those values."
   ]
  },
  {
   "cell_type": "code",
   "execution_count": 33,
   "metadata": {
    "scrolled": true
   },
   "outputs": [
    {
     "data": {
      "image/png": "[encoded data removed]",
      "text/plain": [
       "<Figure size 432x288 with 1 Axes>"
      ]
     },
     "metadata": {
      "needs_background": "light"
     },
     "output_type": "display_data"
    }
   ],
   "source": [
    "# Plot regplot\n",
    "plt.figure(figsize=(6,4))\n",
    "plt.title('Rank vs. Points for Winners')\n",
    "sns.regplot(df_atp['WPts'], df_atp['WRank'], scatter_kws={'alpha':0.3});"
   ]
  },
  {
   "cell_type": "code",
   "execution_count": 34,
   "metadata": {
    "scrolled": true
   },
   "outputs": [
    {
     "data": {
      "image/png": "[encoded data removed]",
      "text/plain": [
       "<Figure size 432x288 with 1 Axes>"
      ]
     },
     "metadata": {
      "needs_background": "light"
     },
     "output_type": "display_data"
    }
   ],
   "source": [
    "# Plot regplot\n",
    "plt.figure(figsize=(6,4))\n",
    "plt.title('Rank vs. Points for Losers')\n",
    "sns.regplot(df_atp['LPts'], df_atp['LRank'], scatter_kws={'alpha':0.3});"
   ]
  },
  {
   "cell_type": "markdown",
   "metadata": {},
   "source": [
    "From the regplots we have a clear relationship between Points and Ranks.\n",
    "\n",
    "We can also look at the evolution of ranks overtime for specific players."
   ]
  },
  {
   "cell_type": "code",
   "execution_count": 35,
   "metadata": {
    "scrolled": false
   },
   "outputs": [
    {
     "name": "stderr",
     "output_type": "stream",
     "text": [
      "/opt/anaconda3/lib/python3.7/site-packages/ipykernel_launcher.py:3: SettingWithCopyWarning: \n",
      "A value is trying to be set on a copy of a slice from a DataFrame.\n",
      "Try using .loc[row_indexer,col_indexer] = value instead\n",
      "\n",
      "See the caveats in the documentation: http://pandas.pydata.org/pandas-docs/stable/user_guide/indexing.html#returning-a-view-versus-a-copy\n",
      "  This is separate from the ipykernel package so we can avoid doing imports until\n",
      "/opt/anaconda3/lib/python3.7/site-packages/pandas/plotting/_matplotlib/converter.py:103: FutureWarning: Using an implicitly registered datetime converter for a matplotlib plotting method. The converter was registered by pandas on import. Future versions of pandas will require you to explicitly register matplotlib converters.\n",
      "\n",
      "To register the converters:\n",
      "\t>>> from pandas.plotting import register_matplotlib_converters\n",
      "\t>>> register_matplotlib_converters()\n",
      "  warnings.warn(msg, FutureWarning)\n"
     ]
    },
    {
     "data": {
      "image/png": "[encoded data removed]",
      "text/plain": [
       "<Figure size 432x288 with 1 Axes>"
      ]
     },
     "metadata": {
      "needs_background": "light"
     },
     "output_type": "display_data"
    }
   ],
   "source": [
    "# Plot Roger Federer's ranking over time\n",
    "df_federer = df_atp[(df_atp['Winner'] == 'Federer R.') | (df_atp['Loser'] == 'Federer R.')]\n",
    "df_federer['frank'] = df_federer.apply(lambda x: x.WRank if x.Winner == 'Federer R.' else x.LRank, axis=1)\n",
    "\n",
    "plt.title('Federer\\'s Rank over time')\n",
    "plt.ylabel('Rank')\n",
    "plt.xlabel('Date')\n",
    "plt.plot(df_federer['Date'], df_federer['frank']);"
   ]
  },
  {
   "cell_type": "code",
   "execution_count": 36,
   "metadata": {
    "scrolled": false
   },
   "outputs": [
    {
     "name": "stderr",
     "output_type": "stream",
     "text": [
      "/opt/anaconda3/lib/python3.7/site-packages/ipykernel_launcher.py:3: SettingWithCopyWarning: \n",
      "A value is trying to be set on a copy of a slice from a DataFrame.\n",
      "Try using .loc[row_indexer,col_indexer] = value instead\n",
      "\n",
      "See the caveats in the documentation: http://pandas.pydata.org/pandas-docs/stable/user_guide/indexing.html#returning-a-view-versus-a-copy\n",
      "  This is separate from the ipykernel package so we can avoid doing imports until\n"
     ]
    },
    {
     "data": {
      "image/png": "[encoded data removed]",
      "text/plain": [
       "<Figure size 432x288 with 1 Axes>"
      ]
     },
     "metadata": {
      "needs_background": "light"
     },
     "output_type": "display_data"
    }
   ],
   "source": [
    "# Plot Rafael Nadal's ranking over time\n",
    "df_nadal = df_atp[(df_atp['Winner'] == 'Nadal R.') | (df_atp['Loser'] == 'Nadal R.')]\n",
    "df_nadal['nrank'] = df_nadal.apply(lambda x: x.WRank if x.Winner == 'Nadal R.' else x.LRank, axis=1)\n",
    "\n",
    "plt.title('Nadal\\'s Rank over time')\n",
    "plt.ylabel('Rank')\n",
    "plt.xlabel('Date')\n",
    "plt.plot(df_nadal['Date'], df_nadal['nrank']);"
   ]
  },
  {
   "cell_type": "code",
   "execution_count": 37,
   "metadata": {
    "scrolled": false
   },
   "outputs": [
    {
     "name": "stderr",
     "output_type": "stream",
     "text": [
      "/opt/anaconda3/lib/python3.7/site-packages/ipykernel_launcher.py:3: SettingWithCopyWarning: \n",
      "A value is trying to be set on a copy of a slice from a DataFrame.\n",
      "Try using .loc[row_indexer,col_indexer] = value instead\n",
      "\n",
      "See the caveats in the documentation: http://pandas.pydata.org/pandas-docs/stable/user_guide/indexing.html#returning-a-view-versus-a-copy\n",
      "  This is separate from the ipykernel package so we can avoid doing imports until\n"
     ]
    },
    {
     "data": {
      "image/png": "[encoded data removed]",
      "text/plain": [
       "<Figure size 432x288 with 1 Axes>"
      ]
     },
     "metadata": {
      "needs_background": "light"
     },
     "output_type": "display_data"
    }
   ],
   "source": [
    "# Plot Dominic Thiem's ranking over time\n",
    "df_thiem = df_atp[(df_atp['Winner'] == 'Thiem D.') | (df_atp['Loser'] == 'Thiem D.')]\n",
    "df_thiem['trank'] = df_thiem.apply(lambda x: x.WRank if x.Winner == 'Thiem D.' else x.LRank, axis=1)\n",
    "\n",
    "plt.title('Thiem\\'s Rank over time')\n",
    "plt.ylabel('Rank')\n",
    "plt.xlabel('Date')\n",
    "plt.plot(df_thiem['Date'], df_thiem['trank']);"
   ]
  },
  {
   "cell_type": "markdown",
   "metadata": {},
   "source": [
    "In those 3 examples we can see that players start with a high-value rank at the begining of their careers, which could justify imputing with a large value for non-ranked players when the {WPts; LPts} values are missing.\n",
    "A reasonable value would be the third quartile of each column (77 for WRank and 107 for LRank)\n",
    "\n",
    "We can impute the values using regression based on points."
   ]
  },
  {
   "cell_type": "code",
   "execution_count": 38,
   "metadata": {
    "scrolled": true
   },
   "outputs": [],
   "source": [
    "# Fit the model to available values of LPts and LRank\n",
    "df_copy_l = df_atp.dropna(subset = ['LPts', 'LRank'])\n",
    "df_copy_w = df_atp.dropna(subset = ['WPts', 'WRank'])\n",
    "\n",
    "# Set up X and y\n",
    "y_l = df_copy_l['LRank']\n",
    "X_l = df_copy_l[['LPts']]\n",
    "y_w = df_copy_w['WRank']\n",
    "X_w = df_copy_w[['WPts']]\n",
    "\n",
    "# Instanciate the model\n",
    "lr_l = LinearRegression()\n",
    "lr_w = LinearRegression()\n",
    "\n",
    "# Fit the model\n",
    "lr_l = lr_l.fit(X_l, y_l)\n",
    "lr_w = lr_w.fit(X_w, y_w)\n",
    "\n",
    "# First fill Ranks with 3rd quartile when Point value is blank\n",
    "df_atp['LRank'] = np.where(df_atp['LPts'].isna(), 77, df_atp['LRank'])\n",
    "df_atp['WRank'] = np.where(df_atp['WPts'].isna(), 105, df_atp['WRank'])\n",
    "\n",
    "# Add column with predictions\n",
    "df_atp['LRank_pred'] = pd.Series(lr_l.predict(X_l))\n",
    "df_atp['WRank_pred'] = pd.Series(lr_w.predict(X_w))\n",
    "\n",
    "# Force values to be greater than 1 \n",
    "df_atp['LRank_pred'] = df_atp['LRank_pred'].apply(lambda x: max(1, x))\n",
    "df_atp['WRank_pred'] = df_atp['WRank_pred'].apply(lambda x: max(1, x))\n",
    "\n",
    "# Final columns with predictions instead of NULLs\n",
    "df_atp['WRank'] = df_atp['WRank'].fillna(df_atp['WRank_pred'])\n",
    "df_atp['LRank'] = df_atp['LRank'].fillna(df_atp['LRank_pred'])"
   ]
  },
  {
   "cell_type": "code",
   "execution_count": 39,
   "metadata": {
    "scrolled": true
   },
   "outputs": [
    {
     "data": {
      "text/plain": [
       "WRank    0\n",
       "LRank    0\n",
       "dtype: int64"
      ]
     },
     "execution_count": 39,
     "metadata": {},
     "output_type": "execute_result"
    }
   ],
   "source": [
    "# Make sure we don't have any NULLs left\n",
    "df_atp[['WRank', 'LRank']].isna().sum()"
   ]
  },
  {
   "cell_type": "markdown",
   "metadata": {},
   "source": [
    "#### 2- Point Values"
   ]
  },
  {
   "cell_type": "markdown",
   "metadata": {},
   "source": [
    "To get an understanding of points we should plot their values over time for specific players"
   ]
  },
  {
   "cell_type": "code",
   "execution_count": 40,
   "metadata": {},
   "outputs": [
    {
     "name": "stderr",
     "output_type": "stream",
     "text": [
      "/opt/anaconda3/lib/python3.7/site-packages/ipykernel_launcher.py:2: SettingWithCopyWarning: \n",
      "A value is trying to be set on a copy of a slice from a DataFrame.\n",
      "Try using .loc[row_indexer,col_indexer] = value instead\n",
      "\n",
      "See the caveats in the documentation: http://pandas.pydata.org/pandas-docs/stable/user_guide/indexing.html#returning-a-view-versus-a-copy\n",
      "  \n"
     ]
    },
    {
     "data": {
      "image/png": "[encoded data removed]",
      "text/plain": [
       "<Figure size 432x288 with 1 Axes>"
      ]
     },
     "metadata": {
      "needs_background": "light"
     },
     "output_type": "display_data"
    }
   ],
   "source": [
    "# Plot Roger Federer's points over time\n",
    "df_federer['fpts'] = df_federer.apply(lambda x: x.WPts if x.Winner == 'Federer R.' else x.LPts, axis=1)\n",
    "\n",
    "plt.title('Federer\\'s Points over time')\n",
    "plt.ylabel('Points')\n",
    "plt.xlabel('Date')\n",
    "plt.plot(df_federer['Date'], df_federer['fpts']);"
   ]
  },
  {
   "cell_type": "code",
   "execution_count": 41,
   "metadata": {},
   "outputs": [
    {
     "name": "stderr",
     "output_type": "stream",
     "text": [
      "/opt/anaconda3/lib/python3.7/site-packages/ipykernel_launcher.py:2: SettingWithCopyWarning: \n",
      "A value is trying to be set on a copy of a slice from a DataFrame.\n",
      "Try using .loc[row_indexer,col_indexer] = value instead\n",
      "\n",
      "See the caveats in the documentation: http://pandas.pydata.org/pandas-docs/stable/user_guide/indexing.html#returning-a-view-versus-a-copy\n",
      "  \n"
     ]
    },
    {
     "data": {
      "image/png": "[encoded data removed]",
      "text/plain": [
       "<Figure size 432x288 with 1 Axes>"
      ]
     },
     "metadata": {
      "needs_background": "light"
     },
     "output_type": "display_data"
    }
   ],
   "source": [
    "# Plot Nadal's points over time\n",
    "df_nadal['npts'] = df_nadal.apply(lambda x: x.WPts if x.Winner == 'Nadal R.' else x.LPts, axis=1)\n",
    "\n",
    "plt.title('Nadal\\'s Points over time')\n",
    "plt.ylabel('Points')\n",
    "plt.xlabel('Date')\n",
    "plt.plot(df_nadal['Date'], df_nadal['npts']);"
   ]
  },
  {
   "cell_type": "code",
   "execution_count": 42,
   "metadata": {
    "scrolled": false
   },
   "outputs": [
    {
     "name": "stderr",
     "output_type": "stream",
     "text": [
      "/opt/anaconda3/lib/python3.7/site-packages/ipykernel_launcher.py:2: SettingWithCopyWarning: \n",
      "A value is trying to be set on a copy of a slice from a DataFrame.\n",
      "Try using .loc[row_indexer,col_indexer] = value instead\n",
      "\n",
      "See the caveats in the documentation: http://pandas.pydata.org/pandas-docs/stable/user_guide/indexing.html#returning-a-view-versus-a-copy\n",
      "  \n"
     ]
    },
    {
     "data": {
      "image/png": "[encoded data removed]",
      "text/plain": [
       "<Figure size 432x288 with 1 Axes>"
      ]
     },
     "metadata": {
      "needs_background": "light"
     },
     "output_type": "display_data"
    }
   ],
   "source": [
    "# Plot Thiem's points over time\n",
    "df_thiem['tpts'] = df_thiem.apply(lambda x: x.WPts if x.Winner == 'Thiem D.' else x.LPts, axis=1)\n",
    "\n",
    "plt.title('Thiem\\'s Points over time')\n",
    "plt.ylabel('Points')\n",
    "plt.xlabel('Date')\n",
    "plt.plot(df_thiem['Date'], df_thiem['tpts']);"
   ]
  },
  {
   "cell_type": "markdown",
   "metadata": {},
   "source": [
    "We also already know that points and rankings are correlated, and so we can impute values using a regression this time by predicting points based on Ranks. "
   ]
  },
  {
   "cell_type": "code",
   "execution_count": 43,
   "metadata": {},
   "outputs": [],
   "source": [
    "# Fit the model to available values of LPts and WPts\n",
    "df_copy_l = df_atp.dropna(subset = ['LPts'])\n",
    "df_copy_w = df_atp.dropna(subset = ['WPts'])\n",
    "\n",
    "# Set up X and y\n",
    "y_l = df_copy_l['LPts']\n",
    "X_l = df_copy_l[['LRank']]\n",
    "y_w = df_copy_w['WPts']\n",
    "X_w = df_copy_w[['WRank']]\n",
    "\n",
    "# Instanciate the model\n",
    "lr_l = LinearRegression()\n",
    "lr_w = LinearRegression()\n",
    "\n",
    "# Fit the model\n",
    "lr_l = lr_l.fit(X_l, y_l)\n",
    "lr_w = lr_w.fit(X_w, y_w)\n",
    "\n",
    "# Add column with predictions\n",
    "df_atp['LPts_pred'] = pd.Series(lr_l.predict(X_l))\n",
    "df_atp['WPts_pred'] = pd.Series(lr_w.predict(X_w))\n",
    "\n",
    "# Force values to be positive\n",
    "df_atp['LPts_pred'] = df_atp['LPts_pred'].apply(lambda x: max(0, x))\n",
    "df_atp['WPts_pred'] = df_atp['WPts_pred'].apply(lambda x: max(0, x))\n",
    "\n",
    "# Final columns with predictions instead of NULLs\n",
    "df_atp['WPts'] = df_atp['WPts'].fillna(df_atp['WPts_pred'])\n",
    "df_atp['LPts'] = df_atp['LPts'].fillna(df_atp['LPts_pred'])"
   ]
  },
  {
   "cell_type": "code",
   "execution_count": 44,
   "metadata": {
    "scrolled": true
   },
   "outputs": [
    {
     "data": {
      "text/plain": [
       "WPts    0\n",
       "LPts    0\n",
       "dtype: int64"
      ]
     },
     "execution_count": 44,
     "metadata": {},
     "output_type": "execute_result"
    }
   ],
   "source": [
    "# Make sure we don't have any NULLs left\n",
    "df_atp[['WPts', 'LPts']].isna().sum()"
   ]
  },
  {
   "cell_type": "markdown",
   "metadata": {},
   "source": [
    "#### 3- Odds Columns"
   ]
  },
  {
   "cell_type": "markdown",
   "metadata": {},
   "source": [
    "- For AvgL, AvgW, MaxL and MaxM it makes sense to impute with the averages and maximum out of the available values.\n",
    "- For remaining odds columns, strategies to consider could be imputing with:\n",
    "    - the average of available odds for each player (by row), \n",
    "    - with the mean value for winning/losing odds (by column) (probem: will underestimate the variance of our variables),\n",
    "    - we can randomly choose variables from a normal distribution with respective mean and std\n",
    "    - give players a 50/50 chance (where we have no bet data, in around 3900 matches) and impute with a 1.0 for each player"
   ]
  },
  {
   "cell_type": "code",
   "execution_count": 45,
   "metadata": {},
   "outputs": [],
   "source": [
    "# First fill NULLs in AvgL, AvgM, MaxL, MaxM\n",
    "losing_odds = ['B365L', 'B&WL', 'CBL', 'EXL', \n",
    "               'LBL', 'GBL', 'IWL', 'PSL', \n",
    "               'SBL', 'SJL', 'UBL']\n",
    "winning_odds = ['B365W', 'B&WW', 'CBW', 'EXW', \n",
    "               'LBW', 'GBW', 'IWW', 'PSW', \n",
    "               'SBW', 'SJW', 'UBW']\n",
    "odds = ['B365W', 'B365L', 'B&WW', 'B&WL', \n",
    "        'CBW', 'CBL', 'EXW', 'EXL', \n",
    "        'LBW', 'LBL', 'GBW', 'GBL', \n",
    "        'IWW', 'IWL', 'PSW', 'PSL', \n",
    "        'SBW', 'SBL', 'SJW', 'SJL', \n",
    "        'UBW', 'UBL']\n",
    "\n",
    "\n",
    "# Add columns\n",
    "df_atp['Wmean'] = df_atp.apply(lambda x: x[winning_odds].mean(), axis =1)\n",
    "df_atp['Lmean'] = df_atp.apply(lambda x: x[losing_odds].mean(), axis =1)\n",
    "df_atp['Wmax'] = df_atp.apply(lambda x: x[winning_odds].max(), axis =1)\n",
    "df_atp['Lmax'] = df_atp.apply(lambda x: x[losing_odds].max(), axis =1)\n",
    "\n",
    "# Fill NULLs\n",
    "df_atp['AvgW'] = df_atp['AvgW'].fillna(df_atp['Wmean'])\n",
    "df_atp['AvgL'] = df_atp['AvgL'].fillna(df_atp['Lmean'])\n",
    "df_atp['MaxW'] = df_atp['MaxW'].fillna(df_atp['Wmax'])\n",
    "df_atp['MaxL'] = df_atp['MaxL'].fillna(df_atp['Wmax'])\n",
    "\n",
    "# Fill NULLs in all columns with averages of available data\n",
    "df_atp = df_atp.fillna({x: df_atp['Wmean'] for x in winning_odds})\n",
    "df_atp = df_atp.fillna({x: df_atp['Lmean'] for x in losing_odds})\n",
    "\n",
    "# Finally impute remaining missing values for games with no data with the mean\n",
    "df_atp[odds_columns] = df_atp[odds_columns].fillna(df_atp[odds_columns].mean())"
   ]
  },
  {
   "cell_type": "code",
   "execution_count": 46,
   "metadata": {},
   "outputs": [
    {
     "data": {
      "text/plain": [
       "B365W    0\n",
       "B365L    0\n",
       "B&WW     0\n",
       "B&WL     0\n",
       "CBW      0\n",
       "CBL      0\n",
       "EXW      0\n",
       "EXL      0\n",
       "LBW      0\n",
       "LBL      0\n",
       "GBW      0\n",
       "GBL      0\n",
       "IWW      0\n",
       "IWL      0\n",
       "PSW      0\n",
       "PSL      0\n",
       "SBW      0\n",
       "SBL      0\n",
       "SJW      0\n",
       "SJL      0\n",
       "UBW      0\n",
       "UBL      0\n",
       "MaxW     0\n",
       "MaxL     0\n",
       "AvgW     0\n",
       "AvgL     0\n",
       "dtype: int64"
      ]
     },
     "execution_count": 46,
     "metadata": {},
     "output_type": "execute_result"
    }
   ],
   "source": [
    "# Make sure we don't have any NULLs left\n",
    "df_atp[odds_columns].isna().sum()"
   ]
  },
  {
   "cell_type": "markdown",
   "metadata": {},
   "source": [
    "#### Other notes:\n",
    "- Missing values from {L1, L2, L3, W1, W2...} mean the set was not played.\n",
    "- Missing values of total sets won by either winner or loser {Lsets, Wsets} always mean the game ended upon retirement or walkover, except for 1 occurence. The values can be recovered from {L1, L2, L3, W1, W2...}.\n",
    "\n",
    "However the those are variables we wouldn't get before a game happens, therefore we wouldn't use as a feature"
   ]
  },
  {
   "cell_type": "markdown",
   "metadata": {},
   "source": [
    "### Feature Engineering"
   ]
  },
  {
   "cell_type": "markdown",
   "metadata": {},
   "source": [
    "We have nominal features here that can have an impact on our model, but we need to quantify them in order to be able to use them."
   ]
  },
  {
   "cell_type": "markdown",
   "metadata": {},
   "source": [
    "#### Surface"
   ]
  },
  {
   "cell_type": "markdown",
   "metadata": {},
   "source": [
    "The surface affects players differently (for example, we know Nadal is particularly strong on Clay), and if we had a dataset for only one player it would make sense to quantify nominal surfaces by creating dummy columns, however we are not differenciating between player 1 and player 2, so we need to find a way to relate the meaning to each specific player."
   ]
  },
  {
   "cell_type": "code",
   "execution_count": 47,
   "metadata": {
    "scrolled": false
   },
   "outputs": [
    {
     "name": "stderr",
     "output_type": "stream",
     "text": [
      "/opt/anaconda3/lib/python3.7/site-packages/ipykernel_launcher.py:5: UserWarning: Boolean Series key will be reindexed to match DataFrame index.\n",
      "  \"\"\"\n"
     ]
    },
    {
     "data": {
      "text/plain": [
       "<BarContainer object of 4 artists>"
      ]
     },
     "execution_count": 47,
     "metadata": {},
     "output_type": "execute_result"
    },
    {
     "data": {
      "image/png": "[encoded data removed]",
      "text/plain": [
       "<Figure size 432x288 with 1 Axes>"
      ]
     },
     "metadata": {
      "needs_background": "light"
     },
     "output_type": "display_data"
    }
   ],
   "source": [
    "# Plot federer's win percentage on each surface\n",
    "surfaces = list(df_atp['Surface'].unique())\n",
    "federer_wins = []\n",
    "for s in surfaces:\n",
    "    temp = df_federer[df_atp['Surface'] == s]\n",
    "    games_won = temp[temp['Winner'] == 'Federer R.'].shape[0]\n",
    "    games_lost = temp[temp['Loser'] == 'Federer R.'].shape[0]\n",
    "    games_total = games_won + games_lost\n",
    "    federer_wins.append((100.0*games_won)/games_total)\n",
    "    \n",
    "# plot results\n",
    "plt.title('Percentage of wins for each surface for Federer')\n",
    "plt.ylabel('Percentage of Wins')\n",
    "plt.xlabel('Surface')\n",
    "plt.bar(x = surfaces, height=federer_wins)"
   ]
  },
  {
   "cell_type": "code",
   "execution_count": 48,
   "metadata": {},
   "outputs": [
    {
     "name": "stderr",
     "output_type": "stream",
     "text": [
      "/opt/anaconda3/lib/python3.7/site-packages/ipykernel_launcher.py:4: UserWarning: Boolean Series key will be reindexed to match DataFrame index.\n",
      "  after removing the cwd from sys.path.\n"
     ]
    },
    {
     "data": {
      "text/plain": [
       "<BarContainer object of 4 artists>"
      ]
     },
     "execution_count": 48,
     "metadata": {},
     "output_type": "execute_result"
    },
    {
     "data": {
      "image/png": "[encoded data removed]",
      "text/plain": [
       "<Figure size 432x288 with 1 Axes>"
      ]
     },
     "metadata": {
      "needs_background": "light"
     },
     "output_type": "display_data"
    }
   ],
   "source": [
    "# Plot Nadal's win percentage on each surface\n",
    "nadal_wins = []\n",
    "for s in surfaces:\n",
    "    temp = df_nadal[df_atp['Surface'] == s]\n",
    "    games_won = temp[temp['Winner'] == 'Nadal R.'].shape[0]\n",
    "    games_lost = temp[temp['Loser'] == 'Nadal R.'].shape[0]\n",
    "    games_total = games_won + games_lost\n",
    "    nadal_wins.append((100.0*games_won)/games_total)\n",
    "\n",
    "# Plot results\n",
    "plt.title('Percentage of wins for each surface for Nadal')\n",
    "plt.ylabel('Percentage of Wins')\n",
    "plt.xlabel('Surface')    \n",
    "plt.bar(x = surfaces, height=nadal_wins)"
   ]
  },
  {
   "cell_type": "code",
   "execution_count": 49,
   "metadata": {},
   "outputs": [
    {
     "name": "stderr",
     "output_type": "stream",
     "text": [
      "/opt/anaconda3/lib/python3.7/site-packages/ipykernel_launcher.py:4: UserWarning: Boolean Series key will be reindexed to match DataFrame index.\n",
      "  after removing the cwd from sys.path.\n"
     ]
    },
    {
     "data": {
      "image/png": "[encoded data removed]",
      "text/plain": [
       "<Figure size 432x288 with 1 Axes>"
      ]
     },
     "metadata": {
      "needs_background": "light"
     },
     "output_type": "display_data"
    }
   ],
   "source": [
    "# Plot Thiem's win percentage on each surface\n",
    "thiem_wins = []\n",
    "for s in surfaces:\n",
    "    temp = df_thiem[df_atp['Surface'] == s]\n",
    "    games_won = temp[temp['Winner'] == 'Thiem D.'].shape[0]\n",
    "    games_lost = temp[temp['Loser'] == 'Thiem D.'].shape[0]\n",
    "    games_total = games_won + games_lost \n",
    "    if games_total ==0:\n",
    "        thiem_wins.append(0)\n",
    "    else:\n",
    "        thiem_wins.append((100.0*games_won)/games_total)\n",
    "\n",
    "# plot results\n",
    "plt.title('Percentage of wins for each surface for Thiem')\n",
    "plt.ylabel('Percentage of Wins')\n",
    "plt.xlabel('Surface')\n",
    "plt.bar(x = surfaces, height=thiem_wins);"
   ]
  },
  {
   "cell_type": "code",
   "execution_count": 50,
   "metadata": {},
   "outputs": [],
   "source": [
    "# Define function that calculates percentage of previous games won by player on surface\n",
    "def surface_percent_calc(Date, Surface, Player):\n",
    "    df_prev_surface = df_atp[(df_atp['Date'] < Date) & (df_atp['Surface'] == Surface)]\n",
    "    games_won = df_prev_surface[df_prev_surface['Winner'] == Player].shape[0]\n",
    "    games_lost = df_prev_surface[df_prev_surface['Loser'] == Player].shape[0]\n",
    "    games_total = games_won + games_lost\n",
    "    if games_total == 0:\n",
    "        return 0\n",
    "    else: \n",
    "        return (100.0*games_won)/games_total\n",
    "\n",
    "# Add columns\n",
    "df_atp['winner_surface_percent'] = df_atp.apply(lambda x: surface_percent_calc(x.Date, x.Surface, x.Winner), axis=1)\n",
    "df_atp['loser_surface_percent'] = df_atp.apply(lambda x: surface_percent_calc(x.Date, x.Surface, x.Loser), axis=1)"
   ]
  },
  {
   "cell_type": "markdown",
   "metadata": {},
   "source": [
    "#### Target column"
   ]
  },
  {
   "cell_type": "markdown",
   "metadata": {},
   "source": [
    "For our model, we should have an evenly distributed target (close to 50/50). We can consider that we are choosing between player 1 and player 2 to win the game, and our target column will have a value of 1 if player 1 won, and 0 if player 2 won.\n",
    "For each game, we randomly choose who is player 1, and we expect that 50% of the time it will assign the winner"
   ]
  },
  {
   "cell_type": "code",
   "execution_count": 51,
   "metadata": {
    "scrolled": true
   },
   "outputs": [
    {
     "data": {
      "text/plain": [
       "0.0    26178\n",
       "1.0    26120\n",
       "Name: target, dtype: int64"
      ]
     },
     "execution_count": 51,
     "metadata": {},
     "output_type": "execute_result"
    }
   ],
   "source": [
    "# Set up player 1 and 2 and target columns\n",
    "df_atp['player_1'] = df_atp.apply(lambda x: np.random.choice([x['Winner'], x['Loser']]), axis = 1)\n",
    "df_atp['player_2'] = df_atp.apply(lambda x: np.where(x['Winner'] == x['player_1'], x['Loser'], x['Winner']), axis = 1)\n",
    "\n",
    "df_atp['target'] = df_atp.apply(lambda x: np.where(x['Winner'] == x['player_1'], 1, 0), axis = 1)\n",
    "df_atp['target'] = df_atp['target'].astype('float64')\n",
    "\n",
    "df_atp['target'].value_counts()"
   ]
  },
  {
   "cell_type": "markdown",
   "metadata": {},
   "source": [
    "As we can see we have about the same number of 1s and 0s in our target column.\n",
    "\n",
    "We still need to reassign column values to match player 1 and 2 and not winner and losers, as those are the variables we used to get our target"
   ]
  },
  {
   "cell_type": "code",
   "execution_count": 52,
   "metadata": {
    "scrolled": false
   },
   "outputs": [],
   "source": [
    "p1_cols = ['Avgp1', 'B365p1', 'B&Wp1', \n",
    "           'CBp1', 'EXp1', 'LBp1', 'GBp1', \n",
    "           'IWp1', 'PSp1', 'SBp1', 'SJp1', \n",
    "           'UBp1', 'p1Rank', 'p1Pts', \n",
    "           'p1_percent_win', 'p1_surface_percent']\n",
    "\n",
    "p2_cols = ['Avgp2', 'B365p2', 'B&Wp2', \n",
    "           'CBp2', 'EXp2', 'LBp2', 'GBp2', \n",
    "           'IWp2', 'PSp2', 'SBp2', 'SJp2', \n",
    "           'UBp2', 'p2Rank', 'p2Pts', \n",
    "           'p2_percent_win', 'p2_surface_percent']\n",
    "\n",
    "\n",
    "df_atp['Avgp1'] = df_atp.apply(lambda x: np.where(x['Winner'] == x['player_1'], x['AvgW'], x['AvgL']), axis=1)\n",
    "df_atp['B365p1'] = df_atp.apply(lambda x: np.where(x['Winner'] == x['player_1'], x['B365W'], x['B365L']), axis=1)\n",
    "df_atp['B&Wp1'] = df_atp.apply(lambda x: np.where(x['Winner'] == x['player_1'], x['B&WW'], x['B&WL']), axis=1)\n",
    "df_atp['CBp1'] = df_atp.apply(lambda x: np.where(x['Winner'] == x['player_1'], x['CBW'], x['CBL']), axis=1)\n",
    "df_atp['EXp1'] = df_atp.apply(lambda x: np.where(x['Winner'] == x['player_1'], x['EXW'], x['EXL']), axis=1)\n",
    "df_atp['LBp1'] = df_atp.apply(lambda x: np.where(x['Winner'] == x['player_1'], x['LBW'], x['LBL']), axis=1)\n",
    "df_atp['GBp1'] = df_atp.apply(lambda x: np.where(x['Winner'] == x['player_1'], x['GBW'], x['GBL']), axis=1)\n",
    "df_atp['IWp1'] = df_atp.apply(lambda x: np.where(x['Winner'] == x['player_1'], x['IWW'], x['IWL']), axis=1)\n",
    "df_atp['PSp1'] = df_atp.apply(lambda x: np.where(x['Winner'] == x['player_1'], x['PSW'], x['PSL']), axis=1)\n",
    "df_atp['SBp1'] = df_atp.apply(lambda x: np.where(x['Winner'] == x['player_1'], x['SBW'], x['SBL']), axis=1)\n",
    "df_atp['SJp1'] = df_atp.apply(lambda x: np.where(x['Winner'] == x['player_1'], x['SJW'], x['SJL']), axis=1)\n",
    "df_atp['UBp1'] = df_atp.apply(lambda x: np.where(x['Winner'] == x['player_1'], x['UBW'], x['UBL']), axis=1)\n",
    "df_atp['p1Rank'] = df_atp.apply(lambda x: np.where(x['Winner'] == x['player_1'], x['WRank'], x['LRank']), axis=1)\n",
    "df_atp['p1Pts'] = df_atp.apply(lambda x: np.where(x['Winner'] == x['player_1'], x['WPts'], x['LPts']), axis=1)\n",
    "df_atp['p1_percent_win'] = df_atp.apply(lambda x: np.where(x['Winner'] == x['player_1'], x['winner_percent_win'], x['loser_percent_win']), axis=1)\n",
    "df_atp['p1_surface_percent'] = df_atp.apply(lambda x: np.where(x['Winner'] == x['player_1'], x['winner_surface_percent'], x['loser_surface_percent']), axis=1)\n",
    "\n",
    "\n",
    "df_atp['Avgp2'] = df_atp.apply(lambda x: np.where(x['Winner'] == x['player_2'], x['AvgW'], x['AvgL']), axis=1)\n",
    "df_atp['B365p2'] = df_atp.apply(lambda x: np.where(x['Winner'] == x['player_2'], x['B365W'], x['B365L']), axis=1)\n",
    "df_atp['B&Wp2'] = df_atp.apply(lambda x: np.where(x['Winner'] == x['player_2'], x['B&WW'], x['B&WL']), axis=1)\n",
    "df_atp['CBp2'] = df_atp.apply(lambda x: np.where(x['Winner'] == x['player_2'], x['CBW'], x['CBL']), axis=1)\n",
    "df_atp['EXp2'] = df_atp.apply(lambda x: np.where(x['Winner'] == x['player_2'], x['EXW'], x['EXL']), axis=1)\n",
    "df_atp['LBp2'] = df_atp.apply(lambda x: np.where(x['Winner'] == x['player_2'], x['LBW'], x['LBL']), axis=1)\n",
    "df_atp['GBp2'] = df_atp.apply(lambda x: np.where(x['Winner'] == x['player_2'], x['GBW'], x['GBL']), axis=1)\n",
    "df_atp['IWp2'] = df_atp.apply(lambda x: np.where(x['Winner'] == x['player_2'], x['IWW'], x['IWL']), axis=1)\n",
    "df_atp['PSp2'] = df_atp.apply(lambda x: np.where(x['Winner'] == x['player_2'], x['PSW'], x['PSL']), axis=1)\n",
    "df_atp['SBp2'] = df_atp.apply(lambda x: np.where(x['Winner'] == x['player_2'], x['SBW'], x['SBL']), axis=1)\n",
    "df_atp['SJp2'] = df_atp.apply(lambda x: np.where(x['Winner'] == x['player_2'], x['SJW'], x['SJL']), axis=1)\n",
    "df_atp['UBp2'] = df_atp.apply(lambda x: np.where(x['Winner'] == x['player_2'], x['UBW'], x['UBL']), axis=1)\n",
    "df_atp['p2Rank'] = df_atp.apply(lambda x: np.where(x['Winner'] == x['player_2'], x['WRank'], x['LRank']), axis=1)\n",
    "df_atp['p2Pts'] = df_atp.apply(lambda x: np.where(x['Winner'] == x['player_2'], x['WPts'], x['LPts']), axis=1)\n",
    "df_atp['p2_percent_win'] = df_atp.apply(lambda x: np.where(x['Winner'] == x['player_2'], x['winner_percent_win'], x['loser_percent_win']), axis=1)\n",
    "df_atp['p2_surface_percent'] = df_atp.apply(lambda x: np.where(x['Winner'] == x['player_2'], x['winner_surface_percent'], x['loser_surface_percent']), axis=1)"
   ]
  },
  {
   "cell_type": "markdown",
   "metadata": {},
   "source": [
    "#### Dummy Variables"
   ]
  },
  {
   "cell_type": "markdown",
   "metadata": {},
   "source": [
    "For other nominal variables, we quantify them by creating dummy variables.\n",
    "\n",
    "The 'Best Of' column, while being of integer type, should be treated as a categorical value, as it corresponds to 2 types of games that can be played (either 2 sets to win or 3 sets to win), without necessarily meaning that 3 sets are 'greater than' 2 in the same sense that integer features have.\n",
    "\n",
    "Date also cannot be treated as a numeric column, and should be treated as a dummy as well."
   ]
  },
  {
   "cell_type": "code",
   "execution_count": 53,
   "metadata": {},
   "outputs": [],
   "source": [
    "# Create year column\n",
    "df_atp['Year'] = df_atp['Date'].apply(lambda x: x.year)\n",
    "\n",
    "# Separate train and test datasets\n",
    "df_train = df_atp[df_atp['Date'] < '2017-01-01']\n",
    "df_test = df_atp[(df_atp['Date'] >= '2017-01-01') & (df_atp['Date'] <= '2017-12-31')]\n",
    "\n",
    "# Get Nominal Features\n",
    "nominal_columns = ['Year', 'Series', 'Round', 'Court', 'Best of']\n",
    "train_nominals = df_train[nominal_columns]\n",
    "test_nominals = df_test[nominal_columns]\n",
    "\n",
    "# One-hot encode categorical variables:\n",
    "train_dummies = pd.get_dummies(train_nominals, drop_first=True)\n",
    "test_dummies = pd.get_dummies(test_nominals, drop_first=True)"
   ]
  },
  {
   "cell_type": "markdown",
   "metadata": {},
   "source": [
    "We still need to make sure we have the same dummys in both tests for the model to run"
   ]
  },
  {
   "cell_type": "code",
   "execution_count": 54,
   "metadata": {
    "scrolled": true
   },
   "outputs": [
    {
     "name": "stdout",
     "output_type": "stream",
     "text": [
      "Train only dummies  {'Series_International', 'Series_Masters', 'Series_International Gold'}\n",
      "Test only dummies  set()\n"
     ]
    }
   ],
   "source": [
    "# Print columns that are only in one of the sets\n",
    "train_only_dummies = set(train_dummies.columns) - set(test_dummies.columns)\n",
    "test_only_dummies  = set(test_dummies.columns) - set(train_dummies.columns)\n",
    "print('Train only dummies ', train_only_dummies)\n",
    "print('Test only dummies ', test_only_dummies)"
   ]
  },
  {
   "cell_type": "code",
   "execution_count": 55,
   "metadata": {},
   "outputs": [],
   "source": [
    "# We need to add columns to the test dummies (with value 0)\n",
    "for train_dummy in train_only_dummies:\n",
    "        test_dummies[train_dummy] = 0\n",
    "        \n",
    "# Maintain same column order between two dataframes\n",
    "test_dummies = test_dummies[train_dummies.columns]"
   ]
  },
  {
   "cell_type": "markdown",
   "metadata": {},
   "source": [
    "## Data Preparation"
   ]
  },
  {
   "cell_type": "markdown",
   "metadata": {},
   "source": [
    "Now we should select the appropriate columns that will be used as features, which include:\n",
    "- All numerical columns except: ATP, Best of, and all columns that are part of the results (Wx, Lx) \n",
    "- All nominal features encoded into dummies above"
   ]
  },
  {
   "cell_type": "code",
   "execution_count": 56,
   "metadata": {},
   "outputs": [],
   "source": [
    "# Specify features\n",
    "features = p1_cols + p2_cols\n",
    "\n",
    "# Set up X and y\n",
    "X_train = df_train[features]\n",
    "X_test = df_test[features]\n",
    "y_train = df_train['target']\n",
    "y_test = df_test['target']\n",
    "\n",
    "# Merge with Dummy dataframe\n",
    "X_train = pd.concat([X_train, train_dummies], axis =1)\n",
    "X_test = pd.concat([X_test, test_dummies], axis =1)"
   ]
  },
  {
   "cell_type": "markdown",
   "metadata": {},
   "source": [
    "## Modeling"
   ]
  },
  {
   "cell_type": "markdown",
   "metadata": {},
   "source": [
    "### Baseline"
   ]
  },
  {
   "cell_type": "markdown",
   "metadata": {},
   "source": [
    "In order to evaluate our model we need some benchmark value"
   ]
  },
  {
   "cell_type": "code",
   "execution_count": 57,
   "metadata": {
    "scrolled": false
   },
   "outputs": [
    {
     "data": {
      "text/plain": [
       "0.0    0.500978\n",
       "1.0    0.499022\n",
       "Name: target, dtype: float64"
      ]
     },
     "execution_count": 57,
     "metadata": {},
     "output_type": "execute_result"
    }
   ],
   "source": [
    "# Find distribution of target\n",
    "y_train.value_counts(normalize=True)"
   ]
  },
  {
   "cell_type": "markdown",
   "metadata": {},
   "source": [
    "If we always predict that player 1 will win, then our model would have an accuracy of 0.504"
   ]
  },
  {
   "cell_type": "markdown",
   "metadata": {},
   "source": [
    "We will be using accuracy scores to evaluate the models, as we dot not prefer one class over the other."
   ]
  },
  {
   "cell_type": "markdown",
   "metadata": {},
   "source": [
    "### Logistic Regression"
   ]
  },
  {
   "cell_type": "code",
   "execution_count": 58,
   "metadata": {},
   "outputs": [
    {
     "name": "stderr",
     "output_type": "stream",
     "text": [
      "/opt/anaconda3/lib/python3.7/site-packages/sklearn/linear_model/logistic.py:432: FutureWarning: Default solver will be changed to 'lbfgs' in 0.22. Specify a solver to silence this warning.\n",
      "  FutureWarning)\n"
     ]
    },
    {
     "name": "stdout",
     "output_type": "stream",
     "text": [
      "Train accuracy score: 0.7690099515182445\n",
      "Test accuracy score: 0.6679316888045541\n"
     ]
    }
   ],
   "source": [
    "# Instanciate model\n",
    "lr = LogisticRegression()\n",
    "\n",
    "# Fit the model\n",
    "lr.fit(X_train, y_train)\n",
    "\n",
    "# Generate predictions\n",
    "y_pred = lr.predict(X_train)\n",
    "\n",
    "# Print scores\n",
    "print('Train accuracy score:',accuracy_score(y_train,y_pred))\n",
    "print('Test accuracy score:', accuracy_score(y_test, lr.predict(X_test)))"
   ]
  },
  {
   "cell_type": "markdown",
   "metadata": {},
   "source": [
    "### Random Forest Classifier"
   ]
  },
  {
   "cell_type": "markdown",
   "metadata": {},
   "source": [
    "First we instanciate a RFC model to find out the most relevant features"
   ]
  },
  {
   "cell_type": "code",
   "execution_count": 59,
   "metadata": {},
   "outputs": [
    {
     "data": {
      "image/png": "[encoded data removed]",
      "text/plain": [
       "<Figure size 720x720 with 1 Axes>"
      ]
     },
     "metadata": {
      "needs_background": "light"
     },
     "output_type": "display_data"
    }
   ],
   "source": [
    "# Instanciate model\n",
    "rf = RandomForestClassifier(n_estimators=1000, random_state=42, n_jobs=-1)\n",
    "\n",
    "# Train the classifier\n",
    "rf.fit(X_train, y_train)\n",
    "\n",
    "# plot gini importance of each feature\n",
    "feature_importance = rf.feature_importances_\n",
    "cols = X_train.columns\n",
    "\n",
    "df_features = pd.DataFrame({'feature': cols, 'feature_importance': feature_importance})\n",
    "df_features = df_features.sort_values(by = 'feature_importance')\n",
    "\n",
    "plt.figure(figsize=(10, 10))\n",
    "plt.barh(y = df_features['feature'], width= df_features['feature_importance']);"
   ]
  },
  {
   "cell_type": "code",
   "execution_count": 60,
   "metadata": {},
   "outputs": [
    {
     "name": "stdout",
     "output_type": "stream",
     "text": [
      "Avgp1\n",
      "B&Wp1\n",
      "CBp1\n",
      "EXp1\n",
      "IWp1\n",
      "PSp1\n",
      "SBp1\n",
      "UBp1\n",
      "p1Rank\n",
      "p1Pts\n",
      "p1_percent_win\n",
      "p1_surface_percent\n",
      "Avgp2\n",
      "B&Wp2\n",
      "CBp2\n",
      "EXp2\n",
      "LBp2\n",
      "GBp2\n",
      "IWp2\n",
      "PSp2\n",
      "SBp2\n",
      "SJp2\n",
      "UBp2\n",
      "p2Rank\n",
      "p2Pts\n",
      "p2_percent_win\n",
      "p2_surface_percent\n",
      "Year\n"
     ]
    }
   ],
   "source": [
    "# Select features that have an importance of more than 0.02\n",
    "sfm = SelectFromModel(rf, threshold=0.02)\n",
    "\n",
    "# Fit the model\n",
    "sfm.fit(X_train, y_train)\n",
    "\n",
    "# Print the names of the most important features\n",
    "for feature_list_index in sfm.get_support(indices=True):\n",
    "    print(df_features['feature'][feature_list_index])"
   ]
  },
  {
   "cell_type": "code",
   "execution_count": 61,
   "metadata": {},
   "outputs": [
    {
     "name": "stdout",
     "output_type": "stream",
     "text": [
      "train score:  1.0\n",
      "test score:  0.6713472485768501\n"
     ]
    }
   ],
   "source": [
    "# Create Dataset with important features\n",
    "\n",
    "X_important_train = sfm.transform(X_train)\n",
    "X_important_test = sfm.transform(X_test)\n",
    "\n",
    "# Create a new random forest classifier\n",
    "rf_important = RandomForestClassifier(n_estimators=10000, random_state=42, n_jobs=-1)\n",
    "\n",
    "# fit the new classifier on the new dataset \n",
    "rf_important.fit(X_important_train, y_train)\n",
    "\n",
    "# Generate predictions\n",
    "y_important_pred = rf_important.predict(X_important_train)\n",
    "\n",
    "# Print scores\n",
    "print('train score: ', accuracy_score(y_train, y_important_pred))\n",
    "print('test score: ', accuracy_score(y_test, rf_important.predict(X_important_test)))"
   ]
  },
  {
   "cell_type": "markdown",
   "metadata": {},
   "source": [
    "### Classifiers "
   ]
  },
  {
   "cell_type": "code",
   "execution_count": 62,
   "metadata": {},
   "outputs": [
    {
     "name": "stderr",
     "output_type": "stream",
     "text": [
      "/opt/anaconda3/lib/python3.7/site-packages/sklearn/svm/base.py:193: FutureWarning: The default value of gamma will change from 'auto' to 'scale' in version 0.22 to account better for unscaled features. Set gamma explicitly to 'auto' or 'scale' to avoid this warning.\n",
      "  \"avoid this warning.\", FutureWarning)\n"
     ]
    },
    {
     "data": {
      "text/html": [
       "<div>\n",
       "<style scoped>\n",
       "    .dataframe tbody tr th:only-of-type {\n",
       "        vertical-align: middle;\n",
       "    }\n",
       "\n",
       "    .dataframe tbody tr th {\n",
       "        vertical-align: top;\n",
       "    }\n",
       "\n",
       "    .dataframe thead th {\n",
       "        text-align: right;\n",
       "    }\n",
       "</style>\n",
       "<table border=\"1\" class=\"dataframe\">\n",
       "  <thead>\n",
       "    <tr style=\"text-align: right;\">\n",
       "      <th></th>\n",
       "      <th>Classifier</th>\n",
       "      <th>Train Accuracy</th>\n",
       "      <th>Test Accuracy</th>\n",
       "    </tr>\n",
       "  </thead>\n",
       "  <tbody>\n",
       "    <tr>\n",
       "      <td>0</td>\n",
       "      <td>Nearest Neighbors</td>\n",
       "      <td>0.833886</td>\n",
       "      <td>0.618975</td>\n",
       "    </tr>\n",
       "    <tr>\n",
       "      <td>1</td>\n",
       "      <td>Decision Tree</td>\n",
       "      <td>0.825381</td>\n",
       "      <td>0.673624</td>\n",
       "    </tr>\n",
       "    <tr>\n",
       "      <td>2</td>\n",
       "      <td>Random Forest</td>\n",
       "      <td>0.829442</td>\n",
       "      <td>0.682353</td>\n",
       "    </tr>\n",
       "    <tr>\n",
       "      <td>3</td>\n",
       "      <td>Extra Trees</td>\n",
       "      <td>1.000000</td>\n",
       "      <td>0.645541</td>\n",
       "    </tr>\n",
       "    <tr>\n",
       "      <td>4</td>\n",
       "      <td>AdaBoost</td>\n",
       "      <td>0.802968</td>\n",
       "      <td>0.677419</td>\n",
       "    </tr>\n",
       "    <tr>\n",
       "      <td>5</td>\n",
       "      <td>Support Vector Machines</td>\n",
       "      <td>0.522412</td>\n",
       "      <td>0.503226</td>\n",
       "    </tr>\n",
       "  </tbody>\n",
       "</table>\n",
       "</div>"
      ],
      "text/plain": [
       "                Classifier  Train Accuracy  Test Accuracy\n",
       "0        Nearest Neighbors        0.833886       0.618975\n",
       "1            Decision Tree        0.825381       0.673624\n",
       "2            Random Forest        0.829442       0.682353\n",
       "3              Extra Trees        1.000000       0.645541\n",
       "4                 AdaBoost        0.802968       0.677419\n",
       "5  Support Vector Machines        0.522412       0.503226"
      ]
     },
     "execution_count": 62,
     "metadata": {},
     "output_type": "execute_result"
    }
   ],
   "source": [
    "# Fit multiple classifiers on dataset with important features and see which one performs best \n",
    "names = [\"Nearest Neighbors\", \"Decision Tree\", \n",
    "         \"Random Forest\", 'Extra Trees', \n",
    "         \"AdaBoost\", 'Support Vector Machines']\n",
    "\n",
    "classifiers = [ KNeighborsClassifier(5, n_jobs=-1), DecisionTreeClassifier(max_depth=10),\n",
    "                RandomForestClassifier(max_depth=70, n_estimators=2000, n_jobs=5, min_samples_leaf=40, min_samples_split=80),\n",
    "                ExtraTreesClassifier(max_depth=70, n_estimators=10, n_jobs=-1),\n",
    "                AdaBoostClassifier(), SVC(C=0.5)]\n",
    "\n",
    "train_accuracies = []\n",
    "test_accuracies = []\n",
    "\n",
    "for clf in classifiers:\n",
    "    clf.fit(X_important_train, y_train)\n",
    "    y_train_prediction = clf.predict(X_important_train)\n",
    "    y_test_prediction = clf.predict(X_important_test)\n",
    "    \n",
    "    train_accuracies.append(accuracy_score(y_train, y_train_prediction))\n",
    "    test_accuracies.append(accuracy_score(y_test, y_test_prediction))\n",
    "\n",
    "results = pd.DataFrame({'Classifier': names, 'Train Accuracy': train_accuracies, 'Test Accuracy': test_accuracies})\n",
    "results\n"
   ]
  },
  {
   "cell_type": "markdown",
   "metadata": {},
   "source": [
    "### Random Forest"
   ]
  },
  {
   "cell_type": "markdown",
   "metadata": {},
   "source": [
    "We now use GridSearch to tune hyperparameters for the most promising model"
   ]
  },
  {
   "cell_type": "code",
   "execution_count": 64,
   "metadata": {},
   "outputs": [
    {
     "name": "stderr",
     "output_type": "stream",
     "text": [
      "/opt/anaconda3/lib/python3.7/site-packages/sklearn/model_selection/_split.py:1978: FutureWarning: The default value of cv will change from 3 to 5 in version 0.22. Specify it explicitly to silence this warning.\n",
      "  warnings.warn(CV_WARNING, FutureWarning)\n"
     ]
    },
    {
     "name": "stdout",
     "output_type": "stream",
     "text": [
      "0.7665008080292591\n"
     ]
    },
    {
     "data": {
      "text/plain": [
       "{'max_depth': 50,\n",
       " 'max_features': 4,\n",
       " 'min_samples_split': 20,\n",
       " 'n_estimators': 2000}"
      ]
     },
     "execution_count": 64,
     "metadata": {},
     "output_type": "execute_result"
    }
   ],
   "source": [
    "# Instanciate model\n",
    "rf = RandomForestClassifier()\n",
    "\n",
    "# Parameters tuning\n",
    "rf_params = {\n",
    "    'n_estimators': [2000, 2500],\n",
    "    'max_depth': [50, 70],\n",
    "    'max_features': [4, 6, 7],\n",
    "    'min_samples_split': [20, 30]\n",
    "}\n",
    "\n",
    "# Find best parameters and scores\n",
    "gs = GridSearchCV(rf, param_grid=rf_params)\n",
    "gs.fit(X_important_train, y_train)\n",
    "print(gs.best_score_)\n",
    "gs.best_params_"
   ]
  },
  {
   "cell_type": "code",
   "execution_count": 65,
   "metadata": {},
   "outputs": [
    {
     "name": "stdout",
     "output_type": "stream",
     "text": [
      "0.9382708173853874\n",
      "0.6759013282732448\n"
     ]
    }
   ],
   "source": [
    "y_train_prediction = gs.predict(X_important_train)\n",
    "y_test_prediction = gs.predict(X_important_test)\n",
    "    \n",
    "print(accuracy_score(y_train, y_train_prediction))\n",
    "print(accuracy_score(y_test, y_test_prediction))"
   ]
  }
 ],
 "metadata": {
  "kernelspec": {
   "display_name": "Python 3",
   "language": "python",
   "name": "python3"
  }
 },
 "nbformat": 4,
 "nbformat_minor": 2
}
